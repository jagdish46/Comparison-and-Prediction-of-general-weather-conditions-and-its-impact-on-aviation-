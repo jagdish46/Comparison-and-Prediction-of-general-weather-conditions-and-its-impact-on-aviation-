{
  "nbformat": 4,
  "nbformat_minor": 0,
  "metadata": {
    "colab": {
      "name": "CPS_FINAL.ipynb",
      "provenance": [],
      "collapsed_sections": []
    },
    "kernelspec": {
      "display_name": "Python 3",
      "language": "python",
      "name": "python3"
    },
    "language_info": {
      "codemirror_mode": {
        "name": "ipython",
        "version": 3
      },
      "file_extension": ".py",
      "mimetype": "text/x-python",
      "name": "python",
      "nbconvert_exporter": "python",
      "pygments_lexer": "ipython3",
      "version": "3.8.3"
    },
    "accelerator": "GPU"
  },
  "cells": [
    {
      "cell_type": "code",
      "metadata": {
        "colab": {
          "base_uri": "https://localhost:8080/"
        },
        "id": "5UmtbT5A7uJp",
        "outputId": "2d702172-efa8-4e9e-e2b9-16b007cb0fb0"
      },
      "source": [
        "from google.colab import drive\n",
        "drive.mount('/content/drive')"
      ],
      "execution_count": null,
      "outputs": [
        {
          "output_type": "stream",
          "text": [
            "Mounted at /content/drive\n"
          ],
          "name": "stdout"
        }
      ]
    },
    {
      "cell_type": "code",
      "metadata": {
        "id": "GpXaKhxsvBN0"
      },
      "source": [
        "import numpy as np\n",
        "import pandas as pd\n",
        "import math\n",
        "import os\n",
        "import seaborn as sn\n",
        "import glob\n",
        "from google.colab import drive\n",
        "from tensorflow import keras\n",
        "from sklearn.model_selection import train_test_split\n",
        "from tensorflow.keras.layers import BatchNormalization\n",
        "from tensorflow.keras.regularizers import l2\n",
        "from keras.models import Sequential\n",
        "from keras.layers import Dense, Conv1D, Conv2D, MaxPooling1D, MaxPooling2D, GlobalAveragePooling1D, Dropout, Flatten, AvgPool1D, AvgPool2D, LSTM, Input\n",
        "from tensorflow.keras.callbacks import EarlyStopping\n",
        "from tensorflow.keras.optimizers import SGD\n",
        "from tensorflow.keras.optimizers import RMSprop\n",
        "from keras import optimizers\n",
        "from sklearn.metrics import classification_report\n",
        "from sklearn.preprocessing import StandardScaler"
      ],
      "execution_count": null,
      "outputs": []
    },
    {
      "cell_type": "markdown",
      "metadata": {
        "id": "O9HAGgTPsCNU"
      },
      "source": [
        "#Pre-Processing of Data"
      ]
    },
    {
      "cell_type": "code",
      "metadata": {
        "id": "Oo2kO6NE8R90"
      },
      "source": [
        "flight_data = pd.read_csv(r'/content/drive/MyDrive/cps/ML-Projects-master/dataset.csv')"
      ],
      "execution_count": null,
      "outputs": []
    },
    {
      "cell_type": "code",
      "metadata": {
        "colab": {
          "base_uri": "https://localhost:8080/"
        },
        "id": "hNXPkLt09CLk",
        "outputId": "c91773c7-199d-46d6-9600-c2ceaf7a6378"
      },
      "source": [
        "flight_data.info()\n",
        "print(flight_data.shape)\n",
        "print(flight_data.columns)\n",
        "pd.isnull(flight_data).sum()"
      ],
      "execution_count": null,
      "outputs": [
        {
          "output_type": "stream",
          "text": [
            "<class 'pandas.core.frame.DataFrame'>\n",
            "RangeIndex: 37731 entries, 0 to 37730\n",
            "Data columns (total 27 columns):\n",
            " #   Column                    Non-Null Count  Dtype  \n",
            "---  ------                    --------------  -----  \n",
            " 0   AIRLINE                   37731 non-null  object \n",
            " 1   FROM_JFK                  37731 non-null  object \n",
            " 2   TO JFK                    37731 non-null  object \n",
            " 3   SCHEDULED_DEPARTURE_TIME  37731 non-null  float64\n",
            " 4   FEDERAL_HOLIDAY           1132 non-null   float64\n",
            " 5   STATE_HOLIDAY             577 non-null    float64\n",
            " 6   WEEKEND                   16393 non-null  float64\n",
            " 7   LONG_WEEKEND              2050 non-null   float64\n",
            " 8   WIND_DIRECTION            37731 non-null  int64  \n",
            " 9   WIND SPEED                37731 non-null  int64  \n",
            " 10  ALTIMETER                 37731 non-null  float64\n",
            " 11  0.0slp                    37731 non-null  float64\n",
            " 12  t0.0pc                    37731 non-null  float64\n",
            " 13  VISIBILITY                37731 non-null  float64\n",
            " 14  DEPARTURE_TIME            37731 non-null  float64\n",
            " 15  SCHEDULED_ARRIVAL         37731 non-null  float64\n",
            " 16  ARRIVAL_TIME              37731 non-null  float64\n",
            " 17  SCHEDULED_TIME            37731 non-null  int64  \n",
            " 18  ELAPSED_TIME              37731 non-null  int64  \n",
            " 19  DEPARTURE_DELAY           37731 non-null  int64  \n",
            " 20  ARRIVAL_DELAY             37731 non-null  int64  \n",
            " 21  AIR_SYSTEM_DELAY          37731 non-null  int64  \n",
            " 22  SECURITY_DELAY            37731 non-null  int64  \n",
            " 23  AIRLINE_DELAY             37731 non-null  int64  \n",
            " 24  LATE_AIRCRAFT_DELAY       37731 non-null  int64  \n",
            " 25  WEATHER_DELAY             37731 non-null  int64  \n",
            " 26  CANCELLED                 37731 non-null  int64  \n",
            "dtypes: float64(12), int64(12), object(3)\n",
            "memory usage: 7.8+ MB\n",
            "(37731, 27)\n",
            "Index(['AIRLINE', 'FROM_JFK', 'TO JFK', 'SCHEDULED_DEPARTURE_TIME',\n",
            "       'FEDERAL_HOLIDAY', 'STATE_HOLIDAY', 'WEEKEND', 'LONG_WEEKEND',\n",
            "       'WIND_DIRECTION', 'WIND SPEED ', 'ALTIMETER', '0.0slp', 't0.0pc',\n",
            "       'VISIBILITY', 'DEPARTURE_TIME', 'SCHEDULED_ARRIVAL', 'ARRIVAL_TIME',\n",
            "       'SCHEDULED_TIME', 'ELAPSED_TIME', 'DEPARTURE_DELAY', 'ARRIVAL_DELAY',\n",
            "       'AIR_SYSTEM_DELAY', 'SECURITY_DELAY', 'AIRLINE_DELAY',\n",
            "       'LATE_AIRCRAFT_DELAY', 'WEATHER_DELAY', 'CANCELLED'],\n",
            "      dtype='object')\n"
          ],
          "name": "stdout"
        },
        {
          "output_type": "execute_result",
          "data": {
            "text/plain": [
              "AIRLINE                         0\n",
              "FROM_JFK                        0\n",
              "TO JFK                          0\n",
              "SCHEDULED_DEPARTURE_TIME        0\n",
              "FEDERAL_HOLIDAY             36599\n",
              "STATE_HOLIDAY               37154\n",
              "WEEKEND                     21338\n",
              "LONG_WEEKEND                35681\n",
              "WIND_DIRECTION                  0\n",
              "WIND SPEED                      0\n",
              "ALTIMETER                       0\n",
              "0.0slp                          0\n",
              "t0.0pc                          0\n",
              "VISIBILITY                      0\n",
              "DEPARTURE_TIME                  0\n",
              "SCHEDULED_ARRIVAL               0\n",
              "ARRIVAL_TIME                    0\n",
              "SCHEDULED_TIME                  0\n",
              "ELAPSED_TIME                    0\n",
              "DEPARTURE_DELAY                 0\n",
              "ARRIVAL_DELAY                   0\n",
              "AIR_SYSTEM_DELAY                0\n",
              "SECURITY_DELAY                  0\n",
              "AIRLINE_DELAY                   0\n",
              "LATE_AIRCRAFT_DELAY             0\n",
              "WEATHER_DELAY                   0\n",
              "CANCELLED                       0\n",
              "dtype: int64"
            ]
          },
          "metadata": {
            "tags": []
          },
          "execution_count": 4
        }
      ]
    },
    {
      "cell_type": "code",
      "metadata": {
        "id": "Oc18Q5NlpAot"
      },
      "source": [
        "flight_data = flight_data.fillna(int(0))"
      ],
      "execution_count": null,
      "outputs": []
    },
    {
      "cell_type": "code",
      "metadata": {
        "colab": {
          "base_uri": "https://localhost:8080/"
        },
        "id": "1CPvMojjEOBG",
        "outputId": "abae1630-a94b-433f-c996-b5132306eb76"
      },
      "source": [
        "print(flight_data['STATE_HOLIDAY'])"
      ],
      "execution_count": null,
      "outputs": [
        {
          "output_type": "stream",
          "text": [
            "0        0.0\n",
            "1        0.0\n",
            "2        0.0\n",
            "3        0.0\n",
            "4        0.0\n",
            "        ... \n",
            "37726    0.0\n",
            "37727    0.0\n",
            "37728    0.0\n",
            "37729    0.0\n",
            "37730    0.0\n",
            "Name: STATE_HOLIDAY, Length: 37731, dtype: float64\n"
          ],
          "name": "stdout"
        }
      ]
    },
    {
      "cell_type": "code",
      "metadata": {
        "id": "ZQ34WjLW9WWi"
      },
      "source": [
        "for i in range(flight_data.shape[0]):\n",
        "  column = str(flight_data.iloc[i, 1])\n",
        "  if column == 'JFK':\n",
        "    flight_data.iloc[i, 1] = int(1)\n",
        "  else:\n",
        "    flight_data.iloc[i, 1] = int(0)\n",
        "    \n",
        "for i in range(flight_data.shape[0]):\n",
        "  column = str(flight_data.iloc[i, 2])\n",
        "  if column == 'JFK':\n",
        "    flight_data.iloc[i, 2] = int(1)\n",
        "  else:\n",
        "    flight_data.iloc[i, 2] = int(0)"
      ],
      "execution_count": null,
      "outputs": []
    },
    {
      "cell_type": "code",
      "metadata": {
        "colab": {
          "base_uri": "https://localhost:8080/"
        },
        "id": "DvNDpXdREpT9",
        "outputId": "56134a86-f0bb-44cc-e357-eb51dd824642"
      },
      "source": [
        "print(flight_data.shape[0])\n",
        "print(flight_data.iloc[2,10])"
      ],
      "execution_count": null,
      "outputs": [
        {
          "output_type": "stream",
          "text": [
            "37731\n",
            "30.16\n"
          ],
          "name": "stdout"
        }
      ]
    },
    {
      "cell_type": "code",
      "metadata": {
        "id": "b7vBav8p-499"
      },
      "source": [
        "drop_column = ['AIRLINE']\n",
        "flight_data = flight_data.drop(drop_column, axis = 1)\n"
      ],
      "execution_count": null,
      "outputs": []
    },
    {
      "cell_type": "code",
      "metadata": {
        "colab": {
          "base_uri": "https://localhost:8080/"
        },
        "id": "nmqEAvE4E6Q_",
        "outputId": "1c0d97ff-a7e5-4cbc-f290-f4621d51f8c7"
      },
      "source": [
        "print(flight_data.columns)"
      ],
      "execution_count": null,
      "outputs": [
        {
          "output_type": "stream",
          "text": [
            "Index(['FROM_JFK', 'TO JFK', 'SCHEDULED_DEPARTURE_TIME', 'FEDERAL_HOLIDAY',\n",
            "       'STATE_HOLIDAY', 'WEEKEND', 'LONG_WEEKEND', 'WIND_DIRECTION',\n",
            "       'WIND SPEED ', 'ALTIMETER', '0.0slp', 't0.0pc', 'VISIBILITY',\n",
            "       'DEPARTURE_TIME', 'SCHEDULED_ARRIVAL', 'ARRIVAL_TIME', 'SCHEDULED_TIME',\n",
            "       'ELAPSED_TIME', 'DEPARTURE_DELAY', 'ARRIVAL_DELAY', 'AIR_SYSTEM_DELAY',\n",
            "       'SECURITY_DELAY', 'AIRLINE_DELAY', 'LATE_AIRCRAFT_DELAY',\n",
            "       'WEATHER_DELAY', 'CANCELLED'],\n",
            "      dtype='object')\n"
          ],
          "name": "stdout"
        }
      ]
    },
    {
      "cell_type": "code",
      "metadata": {
        "id": "Bh7YXi8yAFcj"
      },
      "source": [
        "flight_data[['FROM_JFK', 'TO JFK', 'FEDERAL_HOLIDAY', 'STATE_HOLIDAY', 'WEEKEND', 'LONG_WEEKEND']] = flight_data[['FROM_JFK', 'TO JFK', 'FEDERAL_HOLIDAY', 'STATE_HOLIDAY', 'WEEKEND', 'LONG_WEEKEND']].apply(pd.to_numeric)"
      ],
      "execution_count": null,
      "outputs": []
    },
    {
      "cell_type": "code",
      "metadata": {
        "colab": {
          "base_uri": "https://localhost:8080/"
        },
        "id": "CbCwH2wyE_bJ",
        "outputId": "545f0071-73f2-4b88-8ea3-9e7db3751b7a"
      },
      "source": [
        "print(flight_data['DEPARTURE_DELAY'])"
      ],
      "execution_count": null,
      "outputs": [
        {
          "output_type": "stream",
          "text": [
            "0        -2\n",
            "1        -5\n",
            "2        -7\n",
            "3        43\n",
            "4        55\n",
            "         ..\n",
            "37726    -8\n",
            "37727    -6\n",
            "37728    -9\n",
            "37729    -9\n",
            "37730    -3\n",
            "Name: DEPARTURE_DELAY, Length: 37731, dtype: int64\n"
          ],
          "name": "stdout"
        }
      ]
    },
    {
      "cell_type": "code",
      "metadata": {
        "id": "uAg5A6ZXX6YM"
      },
      "source": [
        "EARLY_DEPARTURE = []\n",
        "EARLY_ARRIVAL = []\n",
        "for column_number in range(18, 26):\n",
        "  for i in range(flight_data.shape[0]):\n",
        "    column_value = flight_data.iloc[i, column_number]\n",
        "    if column_value > 0:\n",
        "      flight_data.iloc[i, column_number] = int(1)\n",
        "      if column_number == 18:\n",
        "        EARLY_DEPARTURE.append(0)\n",
        "      elif column_number == 19:\n",
        "        EARLY_ARRIVAL.append(0)\n",
        "\n",
        "    else:\n",
        "      if column_number == 18:\n",
        "        EARLY_DEPARTURE.append(1)\n",
        "      elif column_number == 19:\n",
        "        EARLY_ARRIVAL.append(1)\n",
        "      flight_data.iloc[i, column_number] = int(0)\n",
        "flight_data[\"EARLY_DEPARTURE\"] = EARLY_DEPARTURE\n",
        "flight_data[\"EARLY_ARRIVAL\"] = EARLY_ARRIVAL"
      ],
      "execution_count": null,
      "outputs": []
    },
    {
      "cell_type": "code",
      "metadata": {
        "colab": {
          "base_uri": "https://localhost:8080/"
        },
        "id": "vxBFb9izKjm4",
        "outputId": "ed69cf6a-204d-46c9-9ab5-fa26204d69bc"
      },
      "source": [
        "flight_data.dtypes"
      ],
      "execution_count": null,
      "outputs": [
        {
          "output_type": "execute_result",
          "data": {
            "text/plain": [
              "FROM_JFK                      int64\n",
              "TO JFK                        int64\n",
              "SCHEDULED_DEPARTURE_TIME    float64\n",
              "FEDERAL_HOLIDAY             float64\n",
              "STATE_HOLIDAY               float64\n",
              "WEEKEND                     float64\n",
              "LONG_WEEKEND                float64\n",
              "WIND_DIRECTION                int64\n",
              "WIND SPEED                    int64\n",
              "ALTIMETER                   float64\n",
              "0.0slp                      float64\n",
              "t0.0pc                      float64\n",
              "VISIBILITY                  float64\n",
              "DEPARTURE_TIME              float64\n",
              "SCHEDULED_ARRIVAL           float64\n",
              "ARRIVAL_TIME                float64\n",
              "SCHEDULED_TIME                int64\n",
              "ELAPSED_TIME                  int64\n",
              "DEPARTURE_DELAY               int64\n",
              "ARRIVAL_DELAY                 int64\n",
              "AIR_SYSTEM_DELAY              int64\n",
              "SECURITY_DELAY                int64\n",
              "AIRLINE_DELAY                 int64\n",
              "LATE_AIRCRAFT_DELAY           int64\n",
              "WEATHER_DELAY                 int64\n",
              "CANCELLED                     int64\n",
              "EARLY_DEPARTURE               int64\n",
              "EARLY_ARRIVAL                 int64\n",
              "dtype: object"
            ]
          },
          "metadata": {
            "tags": []
          },
          "execution_count": 14
        }
      ]
    },
    {
      "cell_type": "code",
      "metadata": {
        "id": "qHm8jFBr03IB"
      },
      "source": [
        "flight_data.to_csv(r'/content/drive/MyDrive/cps/ML-Projects-master/data.csv')"
      ],
      "execution_count": null,
      "outputs": []
    },
    {
      "cell_type": "code",
      "metadata": {
        "id": "LkSlx47sb2Ti"
      },
      "source": [
        "test_data = flight_data.columns[18:]\n",
        "X = flight_data.copy(deep = True)\n",
        "X = X.drop(test_data,  axis = 1)\n",
        "Y = flight_data[test_data]\n",
        "Y = Y.drop([\"EARLY_ARRIVAL\", \"EARLY_DEPARTURE\"], axis = 1)"
      ],
      "execution_count": null,
      "outputs": []
    },
    {
      "cell_type": "code",
      "metadata": {
        "colab": {
          "base_uri": "https://localhost:8080/"
        },
        "id": "8fVV9VTUAods",
        "outputId": "be63dd87-1747-4bcc-8dbd-2ffca5c8439a"
      },
      "source": [
        "print(X)"
      ],
      "execution_count": null,
      "outputs": [
        {
          "output_type": "stream",
          "text": [
            "       FROM_JFK  TO JFK  ...  SCHEDULED_TIME  ELAPSED_TIME\n",
            "0             0       1  ...             235           248\n",
            "1             0       1  ...              88            78\n",
            "2             0       1  ...              85            67\n",
            "3             1       0  ...             225           201\n",
            "4             1       0  ...             185           199\n",
            "...         ...     ...  ...             ...           ...\n",
            "37726         1       0  ...             347           338\n",
            "37727         0       1  ...             212           196\n",
            "37728         1       0  ...             395           370\n",
            "37729         0       1  ...              89            81\n",
            "37730         1       0  ...             235           218\n",
            "\n",
            "[37731 rows x 18 columns]\n"
          ],
          "name": "stdout"
        }
      ]
    },
    {
      "cell_type": "code",
      "metadata": {
        "colab": {
          "base_uri": "https://localhost:8080/"
        },
        "id": "l-G3F_5Wmlqm",
        "outputId": "54a95092-244a-4940-f1b4-da2f9e8b8d4b"
      },
      "source": [
        "#Centralizing the Data Using Standard Scaler\n",
        "X = np.array(X)\n",
        "Y = np.array(Y)\n",
        "scaler = StandardScaler()\n",
        "scaler.fit(X)\n",
        "X = scaler.transform(X)\n",
        "print(X)"
      ],
      "execution_count": null,
      "outputs": [
        {
          "output_type": "stream",
          "text": [
            "[[-1.00039763  1.00039763 -2.305589   ... -1.27045671  0.10656148\n",
            "   0.35580707]\n",
            " [-1.00039763  1.00039763 -1.59504119 ... -1.02530409 -1.24190594\n",
            "  -1.08928869]\n",
            " [-1.00039763  1.00039763 -1.59504119 ... -1.06032589 -1.26942568\n",
            "  -1.18279488]\n",
            " ...\n",
            " [ 0.99960253 -0.99960253 -0.69501397 ... -0.11473722  1.57428112\n",
            "   1.39287579]\n",
            " [-1.00039763  1.00039763 -0.69501397 ... -0.35988984 -1.23273269\n",
            "  -1.063787  ]\n",
            " [ 0.99960253 -0.99960253 -0.69501397 ... -0.00967181  0.10656148\n",
            "   0.10079017]]\n"
          ],
          "name": "stdout"
        }
      ]
    },
    {
      "cell_type": "code",
      "metadata": {
        "id": "Ul0NW9LzltjV"
      },
      "source": [
        "X_train, X_dev, Y_train, Y_dev = train_test_split(X, Y, test_size = 0.15, random_state =777)\n",
        "X_dev, X_test, Y_dev, Y_test = train_test_split(X_dev, Y_dev, test_size = 0.2, random_state = 777)"
      ],
      "execution_count": null,
      "outputs": []
    },
    {
      "cell_type": "code",
      "metadata": {
        "colab": {
          "base_uri": "https://localhost:8080/"
        },
        "id": "7qKWL5nALgmw",
        "outputId": "d1d5f3ad-cae9-4bc0-85ac-826ccfbc00e2"
      },
      "source": [
        "print(X_train.shape,Y_train.shape)\n",
        "print(X_dev.shape,Y_dev.shape)\n",
        "print(X_test.shape,Y_test.shape)"
      ],
      "execution_count": null,
      "outputs": [
        {
          "output_type": "stream",
          "text": [
            "(32071, 18) (32071, 8)\n",
            "(4528, 18) (4528, 8)\n",
            "(1132, 18) (1132, 8)\n"
          ],
          "name": "stdout"
        }
      ]
    },
    {
      "cell_type": "code",
      "metadata": {
        "colab": {
          "base_uri": "https://localhost:8080/"
        },
        "id": "t6AoiZiGmyRZ",
        "outputId": "3d4ddaed-e098-4c01-9499-d361c2744939"
      },
      "source": [
        "model = Sequential()\n",
        "model.add(Dense(60, input_dim = 18, kernel_regularizer=l2(1e-1), activation='relu'))\n",
        "model.add(Dense(180, kernel_regularizer=l2(1e-1), activation= 'relu'))\n",
        "model.add(Dense(320, kernel_regularizer=l2(1e-1), activation='relu'))\n",
        "model.add(Dropout(0.3))\n",
        "model.add(Dense(320, kernel_regularizer=l2(1e-1), activation='relu'))\n",
        "model.add(Dropout(0.3))\n",
        "model.add(Dense(160, kernel_regularizer=l2(1e-1), activation='relu'))\n",
        "model.add(Dense(80, kernel_regularizer=l2(1e-1), activation='relu'))\n",
        "model.add(Dense(40, kernel_regularizer=l2(1e-1), activation='relu'))\n",
        "model.add(Dropout(0.3))\n",
        "model.add(Dense(20, kernel_regularizer=l2(1e-1), activation='relu'))\n",
        "model.add(Dense(18, kernel_regularizer=l2(1e-1), activation= 'relu'))\n",
        "model.add(Dense(14, kernel_regularizer=l2(1e-1),  activation='relu'))\n",
        "model.add(Dense(12, kernel_regularizer=l2(1e-1),  activation='relu'))\n",
        "model.add(Dense(8, kernel_regularizer=l2(1e-1),  activation='sigmoid'))\n",
        "\n",
        "\n",
        "sgd = SGD(lr = 0.00001, momentum = 0.009 ,clipvalue = 5, nesterov = True)\n",
        "model.compile(loss= 'binary_crossentropy', optimizer = sgd, metrics=['accuracy'])\n",
        "checkpointer = EarlyStopping(monitor='val_loss',mode='min')\n",
        "model_history = model.fit(X_train, Y_train, epochs = 50, validation_data = (X_dev, Y_dev), verbose = 2, callbacks = [checkpointer])"
      ],
      "execution_count": null,
      "outputs": [
        {
          "output_type": "stream",
          "text": [
            "Epoch 1/50\n",
            "1003/1003 - 6s - loss: 113.1207 - accuracy: 0.0000e+00 - val_loss: 112.8917 - val_accuracy: 0.0000e+00\n",
            "Epoch 2/50\n",
            "1003/1003 - 3s - loss: 112.6662 - accuracy: 0.0000e+00 - val_loss: 112.4383 - val_accuracy: 0.0000e+00\n",
            "Epoch 3/50\n",
            "1003/1003 - 3s - loss: 112.2136 - accuracy: 3.1181e-05 - val_loss: 111.9866 - val_accuracy: 0.0000e+00\n",
            "Epoch 4/50\n",
            "1003/1003 - 3s - loss: 111.7629 - accuracy: 3.1181e-05 - val_loss: 111.5368 - val_accuracy: 0.0000e+00\n",
            "Epoch 5/50\n",
            "1003/1003 - 3s - loss: 111.3139 - accuracy: 1.2472e-04 - val_loss: 111.0888 - val_accuracy: 0.0000e+00\n",
            "Epoch 6/50\n",
            "1003/1003 - 4s - loss: 110.8668 - accuracy: 3.4299e-04 - val_loss: 110.6426 - val_accuracy: 0.0000e+00\n",
            "Epoch 7/50\n",
            "1003/1003 - 3s - loss: 110.4215 - accuracy: 6.2362e-04 - val_loss: 110.1982 - val_accuracy: 0.0000e+00\n",
            "Epoch 8/50\n",
            "1003/1003 - 3s - loss: 109.9779 - accuracy: 9.6661e-04 - val_loss: 109.7555 - val_accuracy: 0.0000e+00\n",
            "Epoch 9/50\n",
            "1003/1003 - 3s - loss: 109.5363 - accuracy: 0.0014 - val_loss: 109.3146 - val_accuracy: 2.2085e-04\n",
            "Epoch 10/50\n",
            "1003/1003 - 3s - loss: 109.0962 - accuracy: 0.0031 - val_loss: 108.8757 - val_accuracy: 6.6254e-04\n",
            "Epoch 11/50\n",
            "1003/1003 - 3s - loss: 108.6581 - accuracy: 0.0033 - val_loss: 108.4384 - val_accuracy: 0.0015\n",
            "Epoch 12/50\n",
            "1003/1003 - 3s - loss: 108.2217 - accuracy: 0.0048 - val_loss: 108.0029 - val_accuracy: 0.0024\n",
            "Epoch 13/50\n",
            "1003/1003 - 3s - loss: 107.7871 - accuracy: 0.0070 - val_loss: 107.5692 - val_accuracy: 0.0046\n",
            "Epoch 14/50\n",
            "1003/1003 - 3s - loss: 107.3542 - accuracy: 0.0096 - val_loss: 107.1372 - val_accuracy: 0.0084\n",
            "Epoch 15/50\n",
            "1003/1003 - 3s - loss: 106.9230 - accuracy: 0.0113 - val_loss: 106.7070 - val_accuracy: 0.0144\n",
            "Epoch 16/50\n",
            "1003/1003 - 3s - loss: 106.4938 - accuracy: 0.0144 - val_loss: 106.2785 - val_accuracy: 0.0177\n",
            "Epoch 17/50\n",
            "1003/1003 - 3s - loss: 106.0661 - accuracy: 0.0176 - val_loss: 105.8517 - val_accuracy: 0.0232\n",
            "Epoch 18/50\n",
            "1003/1003 - 3s - loss: 105.6402 - accuracy: 0.0232 - val_loss: 105.4267 - val_accuracy: 0.0283\n",
            "Epoch 19/50\n",
            "1003/1003 - 3s - loss: 105.2160 - accuracy: 0.0277 - val_loss: 105.0034 - val_accuracy: 0.0333\n",
            "Epoch 20/50\n",
            "1003/1003 - 3s - loss: 104.7935 - accuracy: 0.0347 - val_loss: 104.5818 - val_accuracy: 0.0389\n",
            "Epoch 21/50\n",
            "1003/1003 - 3s - loss: 104.3728 - accuracy: 0.0379 - val_loss: 104.1619 - val_accuracy: 0.0466\n",
            "Epoch 22/50\n",
            "1003/1003 - 3s - loss: 103.9538 - accuracy: 0.0436 - val_loss: 103.7437 - val_accuracy: 0.0545\n",
            "Epoch 23/50\n",
            "1003/1003 - 3s - loss: 103.5363 - accuracy: 0.0513 - val_loss: 103.3272 - val_accuracy: 0.0614\n",
            "Epoch 24/50\n",
            "1003/1003 - 3s - loss: 103.1207 - accuracy: 0.0599 - val_loss: 102.9124 - val_accuracy: 0.0687\n",
            "Epoch 25/50\n",
            "1003/1003 - 3s - loss: 102.7067 - accuracy: 0.0667 - val_loss: 102.4993 - val_accuracy: 0.0808\n",
            "Epoch 26/50\n",
            "1003/1003 - 3s - loss: 102.2944 - accuracy: 0.0723 - val_loss: 102.0878 - val_accuracy: 0.0894\n",
            "Epoch 27/50\n",
            "1003/1003 - 3s - loss: 101.8837 - accuracy: 0.0798 - val_loss: 101.6779 - val_accuracy: 0.0943\n",
            "Epoch 28/50\n",
            "1003/1003 - 3s - loss: 101.4747 - accuracy: 0.0890 - val_loss: 101.2697 - val_accuracy: 0.0987\n",
            "Epoch 29/50\n",
            "1003/1003 - 4s - loss: 101.0673 - accuracy: 0.0939 - val_loss: 100.8632 - val_accuracy: 0.1049\n",
            "Epoch 30/50\n",
            "1003/1003 - 3s - loss: 100.6616 - accuracy: 0.1012 - val_loss: 100.4584 - val_accuracy: 0.1084\n",
            "Epoch 31/50\n",
            "1003/1003 - 3s - loss: 100.2576 - accuracy: 0.1076 - val_loss: 100.0551 - val_accuracy: 0.1109\n",
            "Epoch 32/50\n",
            "1003/1003 - 3s - loss: 99.8552 - accuracy: 0.1163 - val_loss: 99.6536 - val_accuracy: 0.1131\n",
            "Epoch 33/50\n",
            "1003/1003 - 3s - loss: 99.4544 - accuracy: 0.1180 - val_loss: 99.2536 - val_accuracy: 0.1144\n",
            "Epoch 34/50\n",
            "1003/1003 - 3s - loss: 99.0553 - accuracy: 0.1250 - val_loss: 98.8553 - val_accuracy: 0.1159\n",
            "Epoch 35/50\n",
            "1003/1003 - 3s - loss: 98.6578 - accuracy: 0.1281 - val_loss: 98.4586 - val_accuracy: 0.1190\n",
            "Epoch 36/50\n",
            "1003/1003 - 3s - loss: 98.2619 - accuracy: 0.1312 - val_loss: 98.0635 - val_accuracy: 0.1201\n",
            "Epoch 37/50\n",
            "1003/1003 - 3s - loss: 97.8676 - accuracy: 0.1373 - val_loss: 97.6700 - val_accuracy: 0.1219\n",
            "Epoch 38/50\n",
            "1003/1003 - 4s - loss: 97.4748 - accuracy: 0.1402 - val_loss: 97.2780 - val_accuracy: 0.1235\n",
            "Epoch 39/50\n",
            "1003/1003 - 3s - loss: 97.0836 - accuracy: 0.1438 - val_loss: 96.8876 - val_accuracy: 0.1252\n",
            "Epoch 40/50\n",
            "1003/1003 - 3s - loss: 96.6941 - accuracy: 0.1435 - val_loss: 96.4988 - val_accuracy: 0.1283\n",
            "Epoch 41/50\n",
            "1003/1003 - 3s - loss: 96.3060 - accuracy: 0.1506 - val_loss: 96.1116 - val_accuracy: 0.1299\n",
            "Epoch 42/50\n",
            "1003/1003 - 3s - loss: 95.9196 - accuracy: 0.1510 - val_loss: 95.7259 - val_accuracy: 0.1356\n",
            "Epoch 43/50\n",
            "1003/1003 - 3s - loss: 95.5347 - accuracy: 0.1552 - val_loss: 95.3417 - val_accuracy: 0.1433\n",
            "Epoch 44/50\n",
            "1003/1003 - 3s - loss: 95.1513 - accuracy: 0.1585 - val_loss: 94.9592 - val_accuracy: 0.1524\n",
            "Epoch 45/50\n",
            "1003/1003 - 3s - loss: 94.7695 - accuracy: 0.1654 - val_loss: 94.5781 - val_accuracy: 0.1628\n",
            "Epoch 46/50\n",
            "1003/1003 - 3s - loss: 94.3892 - accuracy: 0.1697 - val_loss: 94.1986 - val_accuracy: 0.1804\n",
            "Epoch 47/50\n",
            "1003/1003 - 3s - loss: 94.0105 - accuracy: 0.1767 - val_loss: 93.8207 - val_accuracy: 0.2019\n",
            "Epoch 48/50\n",
            "1003/1003 - 3s - loss: 93.6334 - accuracy: 0.1851 - val_loss: 93.4442 - val_accuracy: 0.2332\n",
            "Epoch 49/50\n",
            "1003/1003 - 3s - loss: 93.2576 - accuracy: 0.1950 - val_loss: 93.0693 - val_accuracy: 0.2767\n",
            "Epoch 50/50\n",
            "1003/1003 - 3s - loss: 92.8834 - accuracy: 0.2094 - val_loss: 92.6958 - val_accuracy: 0.3222\n"
          ],
          "name": "stdout"
        }
      ]
    },
    {
      "cell_type": "code",
      "metadata": {
        "colab": {
          "base_uri": "https://localhost:8080/"
        },
        "id": "2iEupMsBL8y_",
        "outputId": "bf9c42da-9daa-46d2-8b16-1d001694ad56"
      },
      "source": [
        "model_history1 = model.fit(X_train, Y_train, epochs = 250, validation_data = (X_dev, Y_dev), verbose = 2, callbacks = [checkpointer])"
      ],
      "execution_count": null,
      "outputs": [
        {
          "output_type": "stream",
          "text": [
            "Epoch 1/250\n",
            "1003/1003 - 4s - loss: 92.5108 - accuracy: 0.2255 - val_loss: 92.3239 - val_accuracy: 0.3712\n",
            "Epoch 2/250\n",
            "1003/1003 - 3s - loss: 92.1396 - accuracy: 0.2403 - val_loss: 91.9535 - val_accuracy: 0.4335\n",
            "Epoch 3/250\n",
            "1003/1003 - 3s - loss: 91.7699 - accuracy: 0.2594 - val_loss: 91.5846 - val_accuracy: 0.4901\n",
            "Epoch 4/250\n",
            "1003/1003 - 3s - loss: 91.4018 - accuracy: 0.2892 - val_loss: 91.2172 - val_accuracy: 0.5475\n",
            "Epoch 5/250\n",
            "1003/1003 - 3s - loss: 91.0351 - accuracy: 0.3191 - val_loss: 90.8513 - val_accuracy: 0.6014\n",
            "Epoch 6/250\n",
            "1003/1003 - 3s - loss: 90.6699 - accuracy: 0.3395 - val_loss: 90.4869 - val_accuracy: 0.6533\n",
            "Epoch 7/250\n",
            "1003/1003 - 3s - loss: 90.3061 - accuracy: 0.3738 - val_loss: 90.1239 - val_accuracy: 0.6924\n",
            "Epoch 8/250\n",
            "1003/1003 - 3s - loss: 89.9439 - accuracy: 0.4046 - val_loss: 89.7624 - val_accuracy: 0.7261\n",
            "Epoch 9/250\n",
            "1003/1003 - 3s - loss: 89.5832 - accuracy: 0.4414 - val_loss: 89.4023 - val_accuracy: 0.7515\n",
            "Epoch 10/250\n",
            "1003/1003 - 3s - loss: 89.2237 - accuracy: 0.4727 - val_loss: 89.0437 - val_accuracy: 0.7743\n",
            "Epoch 11/250\n",
            "1003/1003 - 3s - loss: 88.8657 - accuracy: 0.5049 - val_loss: 88.6865 - val_accuracy: 0.7915\n",
            "Epoch 12/250\n",
            "1003/1003 - 3s - loss: 88.5092 - accuracy: 0.5328 - val_loss: 88.3307 - val_accuracy: 0.8030\n",
            "Epoch 13/250\n",
            "1003/1003 - 3s - loss: 88.1541 - accuracy: 0.5721 - val_loss: 87.9764 - val_accuracy: 0.8103\n",
            "Epoch 14/250\n",
            "1003/1003 - 3s - loss: 87.8005 - accuracy: 0.5961 - val_loss: 87.6236 - val_accuracy: 0.8136\n",
            "Epoch 15/250\n",
            "1003/1003 - 3s - loss: 87.4483 - accuracy: 0.6246 - val_loss: 87.2721 - val_accuracy: 0.8163\n",
            "Epoch 16/250\n",
            "1003/1003 - 3s - loss: 87.0976 - accuracy: 0.6469 - val_loss: 86.9221 - val_accuracy: 0.8171\n",
            "Epoch 17/250\n",
            "1003/1003 - 3s - loss: 86.7483 - accuracy: 0.6703 - val_loss: 86.5735 - val_accuracy: 0.8185\n",
            "Epoch 18/250\n",
            "1003/1003 - 4s - loss: 86.4003 - accuracy: 0.6904 - val_loss: 86.2263 - val_accuracy: 0.8182\n",
            "Epoch 19/250\n",
            "1003/1003 - 4s - loss: 86.0539 - accuracy: 0.7101 - val_loss: 85.8806 - val_accuracy: 0.8182\n",
            "Epoch 20/250\n",
            "1003/1003 - 4s - loss: 85.7087 - accuracy: 0.7249 - val_loss: 85.5362 - val_accuracy: 0.8185\n",
            "Epoch 21/250\n",
            "1003/1003 - 3s - loss: 85.3651 - accuracy: 0.7432 - val_loss: 85.1932 - val_accuracy: 0.8189\n",
            "Epoch 22/250\n",
            "1003/1003 - 3s - loss: 85.0228 - accuracy: 0.7536 - val_loss: 84.8517 - val_accuracy: 0.8189\n",
            "Epoch 23/250\n",
            "1003/1003 - 3s - loss: 84.6820 - accuracy: 0.7625 - val_loss: 84.5116 - val_accuracy: 0.8193\n",
            "Epoch 24/250\n",
            "1003/1003 - 3s - loss: 84.3425 - accuracy: 0.7747 - val_loss: 84.1728 - val_accuracy: 0.8196\n",
            "Epoch 25/250\n",
            "1003/1003 - 3s - loss: 84.0044 - accuracy: 0.7780 - val_loss: 83.8355 - val_accuracy: 0.8198\n",
            "Epoch 26/250\n",
            "1003/1003 - 3s - loss: 83.6677 - accuracy: 0.7887 - val_loss: 83.4994 - val_accuracy: 0.8198\n",
            "Epoch 27/250\n",
            "1003/1003 - 3s - loss: 83.3324 - accuracy: 0.7930 - val_loss: 83.1647 - val_accuracy: 0.8198\n",
            "Epoch 28/250\n",
            "1003/1003 - 3s - loss: 82.9983 - accuracy: 0.8004 - val_loss: 82.8314 - val_accuracy: 0.8198\n",
            "Epoch 29/250\n",
            "1003/1003 - 3s - loss: 82.6656 - accuracy: 0.8021 - val_loss: 82.4994 - val_accuracy: 0.8198\n",
            "Epoch 30/250\n",
            "1003/1003 - 3s - loss: 82.3342 - accuracy: 0.8044 - val_loss: 82.1687 - val_accuracy: 0.8198\n",
            "Epoch 31/250\n",
            "1003/1003 - 3s - loss: 82.0042 - accuracy: 0.8099 - val_loss: 81.8393 - val_accuracy: 0.8198\n",
            "Epoch 32/250\n",
            "1003/1003 - 4s - loss: 81.6755 - accuracy: 0.8107 - val_loss: 81.5112 - val_accuracy: 0.8198\n",
            "Epoch 33/250\n",
            "1003/1003 - 3s - loss: 81.3480 - accuracy: 0.8117 - val_loss: 81.1845 - val_accuracy: 0.8198\n",
            "Epoch 34/250\n",
            "1003/1003 - 3s - loss: 81.0219 - accuracy: 0.8140 - val_loss: 80.8590 - val_accuracy: 0.8198\n",
            "Epoch 35/250\n",
            "1003/1003 - 3s - loss: 80.6972 - accuracy: 0.8158 - val_loss: 80.5349 - val_accuracy: 0.8198\n",
            "Epoch 36/250\n",
            "1003/1003 - 3s - loss: 80.3738 - accuracy: 0.8161 - val_loss: 80.2121 - val_accuracy: 0.8198\n",
            "Epoch 37/250\n",
            "1003/1003 - 3s - loss: 80.0516 - accuracy: 0.8163 - val_loss: 79.8906 - val_accuracy: 0.8198\n",
            "Epoch 38/250\n",
            "1003/1003 - 3s - loss: 79.7307 - accuracy: 0.8170 - val_loss: 79.5704 - val_accuracy: 0.8198\n",
            "Epoch 39/250\n",
            "1003/1003 - 3s - loss: 79.4111 - accuracy: 0.8175 - val_loss: 79.2515 - val_accuracy: 0.8198\n",
            "Epoch 40/250\n",
            "1003/1003 - 3s - loss: 79.0929 - accuracy: 0.8178 - val_loss: 78.9339 - val_accuracy: 0.8198\n",
            "Epoch 41/250\n",
            "1003/1003 - 3s - loss: 78.7759 - accuracy: 0.8183 - val_loss: 78.6175 - val_accuracy: 0.8198\n",
            "Epoch 42/250\n",
            "1003/1003 - 3s - loss: 78.4602 - accuracy: 0.8182 - val_loss: 78.3025 - val_accuracy: 0.8198\n",
            "Epoch 43/250\n",
            "1003/1003 - 3s - loss: 78.1458 - accuracy: 0.8183 - val_loss: 77.9887 - val_accuracy: 0.8198\n",
            "Epoch 44/250\n",
            "1003/1003 - 3s - loss: 77.8326 - accuracy: 0.8185 - val_loss: 77.6762 - val_accuracy: 0.8198\n",
            "Epoch 45/250\n",
            "1003/1003 - 3s - loss: 77.5209 - accuracy: 0.8186 - val_loss: 77.3651 - val_accuracy: 0.8198\n",
            "Epoch 46/250\n",
            "1003/1003 - 4s - loss: 77.2103 - accuracy: 0.8187 - val_loss: 77.0551 - val_accuracy: 0.8198\n",
            "Epoch 47/250\n",
            "1003/1003 - 3s - loss: 76.9009 - accuracy: 0.8187 - val_loss: 76.7465 - val_accuracy: 0.8198\n",
            "Epoch 48/250\n",
            "1003/1003 - 3s - loss: 76.5930 - accuracy: 0.8187 - val_loss: 76.4391 - val_accuracy: 0.8198\n",
            "Epoch 49/250\n",
            "1003/1003 - 3s - loss: 76.2861 - accuracy: 0.8187 - val_loss: 76.1329 - val_accuracy: 0.8198\n",
            "Epoch 50/250\n",
            "1003/1003 - 4s - loss: 75.9806 - accuracy: 0.8187 - val_loss: 75.8280 - val_accuracy: 0.8198\n",
            "Epoch 51/250\n",
            "1003/1003 - 4s - loss: 75.6764 - accuracy: 0.8187 - val_loss: 75.5243 - val_accuracy: 0.8198\n",
            "Epoch 52/250\n",
            "1003/1003 - 4s - loss: 75.3734 - accuracy: 0.8187 - val_loss: 75.2219 - val_accuracy: 0.8198\n",
            "Epoch 53/250\n",
            "1003/1003 - 4s - loss: 75.0715 - accuracy: 0.8187 - val_loss: 74.9206 - val_accuracy: 0.8198\n",
            "Epoch 54/250\n",
            "1003/1003 - 4s - loss: 74.7708 - accuracy: 0.8187 - val_loss: 74.6206 - val_accuracy: 0.8198\n",
            "Epoch 55/250\n",
            "1003/1003 - 4s - loss: 74.4712 - accuracy: 0.8187 - val_loss: 74.3217 - val_accuracy: 0.8198\n",
            "Epoch 56/250\n",
            "1003/1003 - 4s - loss: 74.1730 - accuracy: 0.8187 - val_loss: 74.0240 - val_accuracy: 0.8198\n",
            "Epoch 57/250\n",
            "1003/1003 - 4s - loss: 73.8760 - accuracy: 0.8187 - val_loss: 73.7275 - val_accuracy: 0.8198\n",
            "Epoch 58/250\n",
            "1003/1003 - 4s - loss: 73.5801 - accuracy: 0.8187 - val_loss: 73.4322 - val_accuracy: 0.8198\n",
            "Epoch 59/250\n",
            "1003/1003 - 4s - loss: 73.2853 - accuracy: 0.8187 - val_loss: 73.1381 - val_accuracy: 0.8198\n",
            "Epoch 60/250\n",
            "1003/1003 - 4s - loss: 72.9918 - accuracy: 0.8187 - val_loss: 72.8452 - val_accuracy: 0.8198\n",
            "Epoch 61/250\n",
            "1003/1003 - 3s - loss: 72.6995 - accuracy: 0.8187 - val_loss: 72.5534 - val_accuracy: 0.8198\n",
            "Epoch 62/250\n",
            "1003/1003 - 4s - loss: 72.4083 - accuracy: 0.8187 - val_loss: 72.2628 - val_accuracy: 0.8198\n",
            "Epoch 63/250\n",
            "1003/1003 - 4s - loss: 72.1183 - accuracy: 0.8187 - val_loss: 71.9734 - val_accuracy: 0.8198\n",
            "Epoch 64/250\n",
            "1003/1003 - 4s - loss: 71.8295 - accuracy: 0.8187 - val_loss: 71.6852 - val_accuracy: 0.8198\n",
            "Epoch 65/250\n",
            "1003/1003 - 4s - loss: 71.5418 - accuracy: 0.8187 - val_loss: 71.3981 - val_accuracy: 0.8198\n",
            "Epoch 66/250\n",
            "1003/1003 - 4s - loss: 71.2554 - accuracy: 0.8187 - val_loss: 71.1122 - val_accuracy: 0.8198\n",
            "Epoch 67/250\n",
            "1003/1003 - 3s - loss: 70.9701 - accuracy: 0.8187 - val_loss: 70.8275 - val_accuracy: 0.8198\n",
            "Epoch 68/250\n",
            "1003/1003 - 4s - loss: 70.6859 - accuracy: 0.8187 - val_loss: 70.5439 - val_accuracy: 0.8198\n",
            "Epoch 69/250\n",
            "1003/1003 - 4s - loss: 70.4029 - accuracy: 0.8187 - val_loss: 70.2615 - val_accuracy: 0.8198\n",
            "Epoch 70/250\n",
            "1003/1003 - 4s - loss: 70.1211 - accuracy: 0.8187 - val_loss: 69.9803 - val_accuracy: 0.8198\n",
            "Epoch 71/250\n",
            "1003/1003 - 4s - loss: 69.8403 - accuracy: 0.8187 - val_loss: 69.7002 - val_accuracy: 0.8198\n",
            "Epoch 72/250\n",
            "1003/1003 - 4s - loss: 69.5609 - accuracy: 0.8187 - val_loss: 69.4212 - val_accuracy: 0.8198\n",
            "Epoch 73/250\n",
            "1003/1003 - 4s - loss: 69.2825 - accuracy: 0.8187 - val_loss: 69.1434 - val_accuracy: 0.8198\n",
            "Epoch 74/250\n",
            "1003/1003 - 4s - loss: 69.0052 - accuracy: 0.8187 - val_loss: 68.8666 - val_accuracy: 0.8198\n",
            "Epoch 75/250\n",
            "1003/1003 - 3s - loss: 68.7291 - accuracy: 0.8187 - val_loss: 68.5910 - val_accuracy: 0.8198\n",
            "Epoch 76/250\n",
            "1003/1003 - 4s - loss: 68.4540 - accuracy: 0.8187 - val_loss: 68.3165 - val_accuracy: 0.8198\n",
            "Epoch 77/250\n",
            "1003/1003 - 3s - loss: 68.1801 - accuracy: 0.8187 - val_loss: 68.0431 - val_accuracy: 0.8198\n",
            "Epoch 78/250\n",
            "1003/1003 - 4s - loss: 67.9072 - accuracy: 0.8187 - val_loss: 67.7708 - val_accuracy: 0.8198\n",
            "Epoch 79/250\n",
            "1003/1003 - 3s - loss: 67.6354 - accuracy: 0.8187 - val_loss: 67.4995 - val_accuracy: 0.8198\n",
            "Epoch 80/250\n",
            "1003/1003 - 4s - loss: 67.3647 - accuracy: 0.8187 - val_loss: 67.2294 - val_accuracy: 0.8198\n",
            "Epoch 81/250\n",
            "1003/1003 - 3s - loss: 67.0951 - accuracy: 0.8187 - val_loss: 66.9603 - val_accuracy: 0.8198\n",
            "Epoch 82/250\n",
            "1003/1003 - 4s - loss: 66.8265 - accuracy: 0.8187 - val_loss: 66.6923 - val_accuracy: 0.8198\n",
            "Epoch 83/250\n",
            "1003/1003 - 3s - loss: 66.5591 - accuracy: 0.8187 - val_loss: 66.4254 - val_accuracy: 0.8198\n",
            "Epoch 84/250\n",
            "1003/1003 - 3s - loss: 66.2927 - accuracy: 0.8187 - val_loss: 66.1596 - val_accuracy: 0.8198\n",
            "Epoch 85/250\n",
            "1003/1003 - 3s - loss: 66.0275 - accuracy: 0.8187 - val_loss: 65.8949 - val_accuracy: 0.8198\n",
            "Epoch 86/250\n",
            "1003/1003 - 4s - loss: 65.7633 - accuracy: 0.8187 - val_loss: 65.6312 - val_accuracy: 0.8198\n",
            "Epoch 87/250\n",
            "1003/1003 - 3s - loss: 65.5002 - accuracy: 0.8187 - val_loss: 65.3686 - val_accuracy: 0.8198\n",
            "Epoch 88/250\n",
            "1003/1003 - 3s - loss: 65.2381 - accuracy: 0.8187 - val_loss: 65.1071 - val_accuracy: 0.8198\n",
            "Epoch 89/250\n",
            "1003/1003 - 3s - loss: 64.9771 - accuracy: 0.8187 - val_loss: 64.8466 - val_accuracy: 0.8198\n",
            "Epoch 90/250\n",
            "1003/1003 - 3s - loss: 64.7172 - accuracy: 0.8187 - val_loss: 64.5872 - val_accuracy: 0.8198\n",
            "Epoch 91/250\n",
            "1003/1003 - 3s - loss: 64.4583 - accuracy: 0.8187 - val_loss: 64.3288 - val_accuracy: 0.8198\n",
            "Epoch 92/250\n",
            "1003/1003 - 4s - loss: 64.2004 - accuracy: 0.8187 - val_loss: 64.0715 - val_accuracy: 0.8198\n",
            "Epoch 93/250\n",
            "1003/1003 - 4s - loss: 63.9436 - accuracy: 0.8187 - val_loss: 63.8153 - val_accuracy: 0.8198\n",
            "Epoch 94/250\n",
            "1003/1003 - 4s - loss: 63.6879 - accuracy: 0.8187 - val_loss: 63.5600 - val_accuracy: 0.8198\n",
            "Epoch 95/250\n",
            "1003/1003 - 3s - loss: 63.4331 - accuracy: 0.8187 - val_loss: 63.3058 - val_accuracy: 0.8198\n",
            "Epoch 96/250\n",
            "1003/1003 - 3s - loss: 63.1795 - accuracy: 0.8187 - val_loss: 63.0527 - val_accuracy: 0.8198\n",
            "Epoch 97/250\n",
            "1003/1003 - 3s - loss: 62.9269 - accuracy: 0.8187 - val_loss: 62.8006 - val_accuracy: 0.8198\n",
            "Epoch 98/250\n",
            "1003/1003 - 4s - loss: 62.6753 - accuracy: 0.8187 - val_loss: 62.5495 - val_accuracy: 0.8198\n",
            "Epoch 99/250\n",
            "1003/1003 - 4s - loss: 62.4247 - accuracy: 0.8187 - val_loss: 62.2994 - val_accuracy: 0.8198\n",
            "Epoch 100/250\n",
            "1003/1003 - 3s - loss: 62.1751 - accuracy: 0.8187 - val_loss: 62.0503 - val_accuracy: 0.8198\n",
            "Epoch 101/250\n",
            "1003/1003 - 3s - loss: 61.9265 - accuracy: 0.8187 - val_loss: 61.8022 - val_accuracy: 0.8198\n",
            "Epoch 102/250\n",
            "1003/1003 - 3s - loss: 61.6789 - accuracy: 0.8187 - val_loss: 61.5551 - val_accuracy: 0.8198\n",
            "Epoch 103/250\n",
            "1003/1003 - 4s - loss: 61.4323 - accuracy: 0.8187 - val_loss: 61.3090 - val_accuracy: 0.8198\n",
            "Epoch 104/250\n",
            "1003/1003 - 3s - loss: 61.1866 - accuracy: 0.8187 - val_loss: 61.0638 - val_accuracy: 0.8198\n",
            "Epoch 105/250\n",
            "1003/1003 - 3s - loss: 60.9420 - accuracy: 0.8187 - val_loss: 60.8197 - val_accuracy: 0.8198\n",
            "Epoch 106/250\n",
            "1003/1003 - 3s - loss: 60.6983 - accuracy: 0.8187 - val_loss: 60.5765 - val_accuracy: 0.8198\n",
            "Epoch 107/250\n",
            "1003/1003 - 3s - loss: 60.4557 - accuracy: 0.8187 - val_loss: 60.3343 - val_accuracy: 0.8198\n",
            "Epoch 108/250\n",
            "1003/1003 - 3s - loss: 60.2140 - accuracy: 0.8187 - val_loss: 60.0931 - val_accuracy: 0.8198\n",
            "Epoch 109/250\n",
            "1003/1003 - 3s - loss: 59.9733 - accuracy: 0.8187 - val_loss: 59.8529 - val_accuracy: 0.8198\n",
            "Epoch 110/250\n",
            "1003/1003 - 4s - loss: 59.7334 - accuracy: 0.8187 - val_loss: 59.6136 - val_accuracy: 0.8198\n",
            "Epoch 111/250\n",
            "1003/1003 - 4s - loss: 59.4947 - accuracy: 0.8187 - val_loss: 59.3753 - val_accuracy: 0.8198\n",
            "Epoch 112/250\n",
            "1003/1003 - 4s - loss: 59.2569 - accuracy: 0.8187 - val_loss: 59.1379 - val_accuracy: 0.8198\n",
            "Epoch 113/250\n",
            "1003/1003 - 3s - loss: 59.0200 - accuracy: 0.8187 - val_loss: 58.9016 - val_accuracy: 0.8198\n",
            "Epoch 114/250\n",
            "1003/1003 - 4s - loss: 58.7842 - accuracy: 0.8187 - val_loss: 58.6661 - val_accuracy: 0.8198\n",
            "Epoch 115/250\n",
            "1003/1003 - 3s - loss: 58.5492 - accuracy: 0.8187 - val_loss: 58.4317 - val_accuracy: 0.8198\n",
            "Epoch 116/250\n",
            "1003/1003 - 3s - loss: 58.3151 - accuracy: 0.8187 - val_loss: 58.1982 - val_accuracy: 0.8198\n",
            "Epoch 117/250\n",
            "1003/1003 - 3s - loss: 58.0822 - accuracy: 0.8187 - val_loss: 57.9657 - val_accuracy: 0.8198\n",
            "Epoch 118/250\n",
            "1003/1003 - 3s - loss: 57.8501 - accuracy: 0.8187 - val_loss: 57.7341 - val_accuracy: 0.8198\n",
            "Epoch 119/250\n",
            "1003/1003 - 4s - loss: 57.6190 - accuracy: 0.8187 - val_loss: 57.5034 - val_accuracy: 0.8198\n",
            "Epoch 120/250\n",
            "1003/1003 - 4s - loss: 57.3889 - accuracy: 0.8187 - val_loss: 57.2738 - val_accuracy: 0.8198\n",
            "Epoch 121/250\n",
            "1003/1003 - 4s - loss: 57.1596 - accuracy: 0.8187 - val_loss: 57.0450 - val_accuracy: 0.8198\n",
            "Epoch 122/250\n",
            "1003/1003 - 4s - loss: 56.9314 - accuracy: 0.8187 - val_loss: 56.8171 - val_accuracy: 0.8198\n",
            "Epoch 123/250\n",
            "1003/1003 - 4s - loss: 56.7039 - accuracy: 0.8187 - val_loss: 56.5902 - val_accuracy: 0.8198\n",
            "Epoch 124/250\n",
            "1003/1003 - 3s - loss: 56.4774 - accuracy: 0.8187 - val_loss: 56.3641 - val_accuracy: 0.8198\n",
            "Epoch 125/250\n",
            "1003/1003 - 3s - loss: 56.2518 - accuracy: 0.8187 - val_loss: 56.1390 - val_accuracy: 0.8198\n",
            "Epoch 126/250\n",
            "1003/1003 - 3s - loss: 56.0271 - accuracy: 0.8187 - val_loss: 55.9147 - val_accuracy: 0.8198\n",
            "Epoch 127/250\n",
            "1003/1003 - 3s - loss: 55.8033 - accuracy: 0.8187 - val_loss: 55.6914 - val_accuracy: 0.8198\n",
            "Epoch 128/250\n",
            "1003/1003 - 4s - loss: 55.5804 - accuracy: 0.8187 - val_loss: 55.4689 - val_accuracy: 0.8198\n",
            "Epoch 129/250\n",
            "1003/1003 - 3s - loss: 55.3584 - accuracy: 0.8187 - val_loss: 55.2474 - val_accuracy: 0.8198\n",
            "Epoch 130/250\n",
            "1003/1003 - 3s - loss: 55.1374 - accuracy: 0.8187 - val_loss: 55.0267 - val_accuracy: 0.8198\n",
            "Epoch 131/250\n",
            "1003/1003 - 3s - loss: 54.9171 - accuracy: 0.8187 - val_loss: 54.8069 - val_accuracy: 0.8198\n",
            "Epoch 132/250\n",
            "1003/1003 - 3s - loss: 54.6978 - accuracy: 0.8187 - val_loss: 54.5881 - val_accuracy: 0.8198\n",
            "Epoch 133/250\n",
            "1003/1003 - 3s - loss: 54.4794 - accuracy: 0.8187 - val_loss: 54.3701 - val_accuracy: 0.8198\n",
            "Epoch 134/250\n",
            "1003/1003 - 4s - loss: 54.2618 - accuracy: 0.8187 - val_loss: 54.1530 - val_accuracy: 0.8198\n",
            "Epoch 135/250\n",
            "1003/1003 - 4s - loss: 54.0452 - accuracy: 0.8187 - val_loss: 53.9368 - val_accuracy: 0.8198\n",
            "Epoch 136/250\n",
            "1003/1003 - 3s - loss: 53.8293 - accuracy: 0.8187 - val_loss: 53.7214 - val_accuracy: 0.8198\n",
            "Epoch 137/250\n",
            "1003/1003 - 4s - loss: 53.6144 - accuracy: 0.8187 - val_loss: 53.5069 - val_accuracy: 0.8198\n",
            "Epoch 138/250\n",
            "1003/1003 - 4s - loss: 53.4004 - accuracy: 0.8187 - val_loss: 53.2933 - val_accuracy: 0.8198\n",
            "Epoch 139/250\n",
            "1003/1003 - 4s - loss: 53.1871 - accuracy: 0.8187 - val_loss: 53.0805 - val_accuracy: 0.8198\n",
            "Epoch 140/250\n",
            "1003/1003 - 4s - loss: 52.9748 - accuracy: 0.8187 - val_loss: 52.8686 - val_accuracy: 0.8198\n",
            "Epoch 141/250\n",
            "1003/1003 - 3s - loss: 52.7633 - accuracy: 0.8187 - val_loss: 52.6576 - val_accuracy: 0.8198\n",
            "Epoch 142/250\n",
            "1003/1003 - 4s - loss: 52.5528 - accuracy: 0.8187 - val_loss: 52.4474 - val_accuracy: 0.8198\n",
            "Epoch 143/250\n",
            "1003/1003 - 3s - loss: 52.3430 - accuracy: 0.8187 - val_loss: 52.2381 - val_accuracy: 0.8198\n",
            "Epoch 144/250\n",
            "1003/1003 - 3s - loss: 52.1341 - accuracy: 0.8187 - val_loss: 52.0296 - val_accuracy: 0.8198\n",
            "Epoch 145/250\n",
            "1003/1003 - 4s - loss: 51.9261 - accuracy: 0.8187 - val_loss: 51.8220 - val_accuracy: 0.8198\n",
            "Epoch 146/250\n",
            "1003/1003 - 4s - loss: 51.7189 - accuracy: 0.8187 - val_loss: 51.6152 - val_accuracy: 0.8198\n",
            "Epoch 147/250\n",
            "1003/1003 - 3s - loss: 51.5125 - accuracy: 0.8187 - val_loss: 51.4092 - val_accuracy: 0.8198\n",
            "Epoch 148/250\n",
            "1003/1003 - 4s - loss: 51.3070 - accuracy: 0.8187 - val_loss: 51.2041 - val_accuracy: 0.8198\n",
            "Epoch 149/250\n",
            "1003/1003 - 4s - loss: 51.1022 - accuracy: 0.8187 - val_loss: 50.9998 - val_accuracy: 0.8198\n",
            "Epoch 150/250\n",
            "1003/1003 - 3s - loss: 50.8983 - accuracy: 0.8187 - val_loss: 50.7963 - val_accuracy: 0.8198\n",
            "Epoch 151/250\n",
            "1003/1003 - 3s - loss: 50.6953 - accuracy: 0.8187 - val_loss: 50.5937 - val_accuracy: 0.8198\n",
            "Epoch 152/250\n",
            "1003/1003 - 4s - loss: 50.4930 - accuracy: 0.8187 - val_loss: 50.3919 - val_accuracy: 0.8198\n",
            "Epoch 153/250\n",
            "1003/1003 - 3s - loss: 50.2916 - accuracy: 0.8187 - val_loss: 50.1908 - val_accuracy: 0.8198\n",
            "Epoch 154/250\n",
            "1003/1003 - 3s - loss: 50.0910 - accuracy: 0.8187 - val_loss: 49.9907 - val_accuracy: 0.8198\n",
            "Epoch 155/250\n",
            "1003/1003 - 3s - loss: 49.8912 - accuracy: 0.8187 - val_loss: 49.7912 - val_accuracy: 0.8198\n",
            "Epoch 156/250\n",
            "1003/1003 - 3s - loss: 49.6922 - accuracy: 0.8187 - val_loss: 49.5926 - val_accuracy: 0.8198\n",
            "Epoch 157/250\n",
            "1003/1003 - 4s - loss: 49.4940 - accuracy: 0.8187 - val_loss: 49.3949 - val_accuracy: 0.8198\n",
            "Epoch 158/250\n",
            "1003/1003 - 4s - loss: 49.2966 - accuracy: 0.8187 - val_loss: 49.1978 - val_accuracy: 0.8198\n",
            "Epoch 159/250\n",
            "1003/1003 - 4s - loss: 49.1000 - accuracy: 0.8187 - val_loss: 49.0016 - val_accuracy: 0.8198\n",
            "Epoch 160/250\n",
            "1003/1003 - 4s - loss: 48.9042 - accuracy: 0.8187 - val_loss: 48.8062 - val_accuracy: 0.8198\n",
            "Epoch 161/250\n",
            "1003/1003 - 4s - loss: 48.7092 - accuracy: 0.8187 - val_loss: 48.6116 - val_accuracy: 0.8198\n",
            "Epoch 162/250\n",
            "1003/1003 - 4s - loss: 48.5150 - accuracy: 0.8187 - val_loss: 48.4177 - val_accuracy: 0.8198\n",
            "Epoch 163/250\n",
            "1003/1003 - 4s - loss: 48.3214 - accuracy: 0.8187 - val_loss: 48.2246 - val_accuracy: 0.8198\n",
            "Epoch 164/250\n",
            "1003/1003 - 3s - loss: 48.1288 - accuracy: 0.8187 - val_loss: 48.0323 - val_accuracy: 0.8198\n",
            "Epoch 165/250\n",
            "1003/1003 - 3s - loss: 47.9368 - accuracy: 0.8187 - val_loss: 47.8408 - val_accuracy: 0.8198\n",
            "Epoch 166/250\n",
            "1003/1003 - 4s - loss: 47.7457 - accuracy: 0.8187 - val_loss: 47.6501 - val_accuracy: 0.8198\n",
            "Epoch 167/250\n",
            "1003/1003 - 4s - loss: 47.5554 - accuracy: 0.8187 - val_loss: 47.4601 - val_accuracy: 0.8198\n",
            "Epoch 168/250\n",
            "1003/1003 - 4s - loss: 47.3658 - accuracy: 0.8187 - val_loss: 47.2709 - val_accuracy: 0.8198\n",
            "Epoch 169/250\n",
            "1003/1003 - 4s - loss: 47.1770 - accuracy: 0.8187 - val_loss: 47.0825 - val_accuracy: 0.8198\n",
            "Epoch 170/250\n",
            "1003/1003 - 4s - loss: 46.9890 - accuracy: 0.8187 - val_loss: 46.8949 - val_accuracy: 0.8198\n",
            "Epoch 171/250\n",
            "1003/1003 - 4s - loss: 46.8017 - accuracy: 0.8187 - val_loss: 46.7079 - val_accuracy: 0.8198\n",
            "Epoch 172/250\n",
            "1003/1003 - 3s - loss: 46.6152 - accuracy: 0.8187 - val_loss: 46.5218 - val_accuracy: 0.8198\n",
            "Epoch 173/250\n",
            "1003/1003 - 3s - loss: 46.4294 - accuracy: 0.8187 - val_loss: 46.3364 - val_accuracy: 0.8198\n",
            "Epoch 174/250\n",
            "1003/1003 - 3s - loss: 46.2443 - accuracy: 0.8187 - val_loss: 46.1517 - val_accuracy: 0.8198\n",
            "Epoch 175/250\n",
            "1003/1003 - 4s - loss: 46.0600 - accuracy: 0.8187 - val_loss: 45.9677 - val_accuracy: 0.8198\n",
            "Epoch 176/250\n",
            "1003/1003 - 3s - loss: 45.8764 - accuracy: 0.8187 - val_loss: 45.7845 - val_accuracy: 0.8198\n",
            "Epoch 177/250\n",
            "1003/1003 - 4s - loss: 45.6936 - accuracy: 0.8187 - val_loss: 45.6021 - val_accuracy: 0.8198\n",
            "Epoch 178/250\n",
            "1003/1003 - 3s - loss: 45.5115 - accuracy: 0.8187 - val_loss: 45.4203 - val_accuracy: 0.8198\n",
            "Epoch 179/250\n",
            "1003/1003 - 4s - loss: 45.3301 - accuracy: 0.8187 - val_loss: 45.2393 - val_accuracy: 0.8198\n",
            "Epoch 180/250\n",
            "1003/1003 - 4s - loss: 45.1495 - accuracy: 0.8187 - val_loss: 45.0591 - val_accuracy: 0.8198\n",
            "Epoch 181/250\n",
            "1003/1003 - 3s - loss: 44.9696 - accuracy: 0.8187 - val_loss: 44.8796 - val_accuracy: 0.8198\n",
            "Epoch 182/250\n",
            "1003/1003 - 3s - loss: 44.7905 - accuracy: 0.8187 - val_loss: 44.7008 - val_accuracy: 0.8198\n",
            "Epoch 183/250\n",
            "1003/1003 - 3s - loss: 44.6120 - accuracy: 0.8187 - val_loss: 44.5227 - val_accuracy: 0.8198\n",
            "Epoch 184/250\n",
            "1003/1003 - 3s - loss: 44.4343 - accuracy: 0.8187 - val_loss: 44.3454 - val_accuracy: 0.8198\n",
            "Epoch 185/250\n",
            "1003/1003 - 4s - loss: 44.2573 - accuracy: 0.8187 - val_loss: 44.1688 - val_accuracy: 0.8198\n",
            "Epoch 186/250\n",
            "1003/1003 - 4s - loss: 44.0811 - accuracy: 0.8187 - val_loss: 43.9929 - val_accuracy: 0.8198\n",
            "Epoch 187/250\n",
            "1003/1003 - 4s - loss: 43.9055 - accuracy: 0.8187 - val_loss: 43.8177 - val_accuracy: 0.8198\n",
            "Epoch 188/250\n",
            "1003/1003 - 3s - loss: 43.7307 - accuracy: 0.8187 - val_loss: 43.6432 - val_accuracy: 0.8198\n",
            "Epoch 189/250\n",
            "1003/1003 - 4s - loss: 43.5566 - accuracy: 0.8187 - val_loss: 43.4694 - val_accuracy: 0.8198\n",
            "Epoch 190/250\n",
            "1003/1003 - 3s - loss: 43.3832 - accuracy: 0.8187 - val_loss: 43.2963 - val_accuracy: 0.8198\n",
            "Epoch 191/250\n",
            "1003/1003 - 3s - loss: 43.2104 - accuracy: 0.8187 - val_loss: 43.1240 - val_accuracy: 0.8198\n",
            "Epoch 192/250\n",
            "1003/1003 - 4s - loss: 43.0384 - accuracy: 0.8187 - val_loss: 42.9523 - val_accuracy: 0.8198\n",
            "Epoch 193/250\n",
            "1003/1003 - 3s - loss: 42.8670 - accuracy: 0.8187 - val_loss: 42.7813 - val_accuracy: 0.8198\n",
            "Epoch 194/250\n",
            "1003/1003 - 3s - loss: 42.6964 - accuracy: 0.8187 - val_loss: 42.6110 - val_accuracy: 0.8198\n",
            "Epoch 195/250\n",
            "1003/1003 - 4s - loss: 42.5264 - accuracy: 0.8187 - val_loss: 42.4413 - val_accuracy: 0.8198\n",
            "Epoch 196/250\n",
            "1003/1003 - 4s - loss: 42.3571 - accuracy: 0.8187 - val_loss: 42.2724 - val_accuracy: 0.8198\n",
            "Epoch 197/250\n",
            "1003/1003 - 3s - loss: 42.1886 - accuracy: 0.8187 - val_loss: 42.1041 - val_accuracy: 0.8198\n",
            "Epoch 198/250\n",
            "1003/1003 - 4s - loss: 42.0206 - accuracy: 0.8187 - val_loss: 41.9365 - val_accuracy: 0.8198\n",
            "Epoch 199/250\n",
            "1003/1003 - 3s - loss: 41.8534 - accuracy: 0.8187 - val_loss: 41.7696 - val_accuracy: 0.8198\n",
            "Epoch 200/250\n",
            "1003/1003 - 4s - loss: 41.6868 - accuracy: 0.8187 - val_loss: 41.6034 - val_accuracy: 0.8198\n",
            "Epoch 201/250\n",
            "1003/1003 - 4s - loss: 41.5209 - accuracy: 0.8187 - val_loss: 41.4378 - val_accuracy: 0.8198\n",
            "Epoch 202/250\n",
            "1003/1003 - 3s - loss: 41.3556 - accuracy: 0.8187 - val_loss: 41.2729 - val_accuracy: 0.8198\n",
            "Epoch 203/250\n",
            "1003/1003 - 3s - loss: 41.1910 - accuracy: 0.8187 - val_loss: 41.1086 - val_accuracy: 0.8198\n",
            "Epoch 204/250\n",
            "1003/1003 - 3s - loss: 41.0271 - accuracy: 0.8187 - val_loss: 40.9451 - val_accuracy: 0.8198\n",
            "Epoch 205/250\n",
            "1003/1003 - 3s - loss: 40.8639 - accuracy: 0.8187 - val_loss: 40.7822 - val_accuracy: 0.8198\n",
            "Epoch 206/250\n",
            "1003/1003 - 3s - loss: 40.7013 - accuracy: 0.8187 - val_loss: 40.6199 - val_accuracy: 0.8198\n",
            "Epoch 207/250\n",
            "1003/1003 - 4s - loss: 40.5394 - accuracy: 0.8187 - val_loss: 40.4583 - val_accuracy: 0.8198\n",
            "Epoch 208/250\n",
            "1003/1003 - 4s - loss: 40.3781 - accuracy: 0.8187 - val_loss: 40.2974 - val_accuracy: 0.8198\n",
            "Epoch 209/250\n",
            "1003/1003 - 4s - loss: 40.2176 - accuracy: 0.8187 - val_loss: 40.1371 - val_accuracy: 0.8198\n",
            "Epoch 210/250\n",
            "1003/1003 - 3s - loss: 40.0576 - accuracy: 0.8187 - val_loss: 39.9775 - val_accuracy: 0.8198\n",
            "Epoch 211/250\n",
            "1003/1003 - 3s - loss: 39.8984 - accuracy: 0.8187 - val_loss: 39.8185 - val_accuracy: 0.8198\n",
            "Epoch 212/250\n",
            "1003/1003 - 3s - loss: 39.7396 - accuracy: 0.8187 - val_loss: 39.6602 - val_accuracy: 0.8198\n",
            "Epoch 213/250\n",
            "1003/1003 - 4s - loss: 39.5816 - accuracy: 0.8187 - val_loss: 39.5025 - val_accuracy: 0.8198\n",
            "Epoch 214/250\n",
            "1003/1003 - 4s - loss: 39.4242 - accuracy: 0.8187 - val_loss: 39.3454 - val_accuracy: 0.8198\n",
            "Epoch 215/250\n",
            "1003/1003 - 3s - loss: 39.2675 - accuracy: 0.8187 - val_loss: 39.1890 - val_accuracy: 0.8198\n",
            "Epoch 216/250\n",
            "1003/1003 - 3s - loss: 39.1113 - accuracy: 0.8187 - val_loss: 39.0331 - val_accuracy: 0.8198\n",
            "Epoch 217/250\n",
            "1003/1003 - 4s - loss: 38.9558 - accuracy: 0.8187 - val_loss: 38.8780 - val_accuracy: 0.8198\n",
            "Epoch 218/250\n",
            "1003/1003 - 3s - loss: 38.8010 - accuracy: 0.8187 - val_loss: 38.7234 - val_accuracy: 0.8198\n",
            "Epoch 219/250\n",
            "1003/1003 - 3s - loss: 38.6467 - accuracy: 0.8187 - val_loss: 38.5695 - val_accuracy: 0.8198\n",
            "Epoch 220/250\n",
            "1003/1003 - 3s - loss: 38.4931 - accuracy: 0.8187 - val_loss: 38.4162 - val_accuracy: 0.8198\n",
            "Epoch 221/250\n",
            "1003/1003 - 3s - loss: 38.3402 - accuracy: 0.8187 - val_loss: 38.2635 - val_accuracy: 0.8198\n",
            "Epoch 222/250\n",
            "1003/1003 - 3s - loss: 38.1878 - accuracy: 0.8187 - val_loss: 38.1115 - val_accuracy: 0.8198\n",
            "Epoch 223/250\n",
            "1003/1003 - 3s - loss: 38.0360 - accuracy: 0.8187 - val_loss: 37.9600 - val_accuracy: 0.8198\n",
            "Epoch 224/250\n",
            "1003/1003 - 4s - loss: 37.8849 - accuracy: 0.8187 - val_loss: 37.8092 - val_accuracy: 0.8198\n",
            "Epoch 225/250\n",
            "1003/1003 - 4s - loss: 37.7343 - accuracy: 0.8187 - val_loss: 37.6589 - val_accuracy: 0.8198\n",
            "Epoch 226/250\n",
            "1003/1003 - 4s - loss: 37.5844 - accuracy: 0.8187 - val_loss: 37.5093 - val_accuracy: 0.8198\n",
            "Epoch 227/250\n",
            "1003/1003 - 3s - loss: 37.4351 - accuracy: 0.8187 - val_loss: 37.3603 - val_accuracy: 0.8198\n",
            "Epoch 228/250\n",
            "1003/1003 - 3s - loss: 37.2863 - accuracy: 0.8187 - val_loss: 37.2118 - val_accuracy: 0.8198\n",
            "Epoch 229/250\n",
            "1003/1003 - 3s - loss: 37.1382 - accuracy: 0.8187 - val_loss: 37.0640 - val_accuracy: 0.8198\n",
            "Epoch 230/250\n",
            "1003/1003 - 4s - loss: 36.9906 - accuracy: 0.8187 - val_loss: 36.9167 - val_accuracy: 0.8198\n",
            "Epoch 231/250\n",
            "1003/1003 - 3s - loss: 36.8437 - accuracy: 0.8187 - val_loss: 36.7701 - val_accuracy: 0.8198\n",
            "Epoch 232/250\n",
            "1003/1003 - 3s - loss: 36.6974 - accuracy: 0.8187 - val_loss: 36.6240 - val_accuracy: 0.8198\n",
            "Epoch 233/250\n",
            "1003/1003 - 4s - loss: 36.5516 - accuracy: 0.8187 - val_loss: 36.4786 - val_accuracy: 0.8198\n",
            "Epoch 234/250\n",
            "1003/1003 - 4s - loss: 36.4064 - accuracy: 0.8187 - val_loss: 36.3337 - val_accuracy: 0.8198\n",
            "Epoch 235/250\n",
            "1003/1003 - 4s - loss: 36.2618 - accuracy: 0.8187 - val_loss: 36.1894 - val_accuracy: 0.8198\n",
            "Epoch 236/250\n",
            "1003/1003 - 4s - loss: 36.1178 - accuracy: 0.8187 - val_loss: 36.0457 - val_accuracy: 0.8198\n",
            "Epoch 237/250\n",
            "1003/1003 - 3s - loss: 35.9744 - accuracy: 0.8187 - val_loss: 35.9025 - val_accuracy: 0.8198\n",
            "Epoch 238/250\n",
            "1003/1003 - 3s - loss: 35.8315 - accuracy: 0.8187 - val_loss: 35.7599 - val_accuracy: 0.8198\n",
            "Epoch 239/250\n",
            "1003/1003 - 3s - loss: 35.6892 - accuracy: 0.8187 - val_loss: 35.6179 - val_accuracy: 0.8198\n",
            "Epoch 240/250\n",
            "1003/1003 - 3s - loss: 35.5475 - accuracy: 0.8187 - val_loss: 35.4765 - val_accuracy: 0.8198\n",
            "Epoch 241/250\n",
            "1003/1003 - 3s - loss: 35.4063 - accuracy: 0.8187 - val_loss: 35.3356 - val_accuracy: 0.8198\n",
            "Epoch 242/250\n",
            "1003/1003 - 4s - loss: 35.2658 - accuracy: 0.8187 - val_loss: 35.1953 - val_accuracy: 0.8198\n",
            "Epoch 243/250\n",
            "1003/1003 - 3s - loss: 35.1258 - accuracy: 0.8187 - val_loss: 35.0556 - val_accuracy: 0.8198\n",
            "Epoch 244/250\n",
            "1003/1003 - 4s - loss: 34.9863 - accuracy: 0.8187 - val_loss: 34.9165 - val_accuracy: 0.8198\n",
            "Epoch 245/250\n",
            "1003/1003 - 4s - loss: 34.8475 - accuracy: 0.8187 - val_loss: 34.7779 - val_accuracy: 0.8198\n",
            "Epoch 246/250\n",
            "1003/1003 - 3s - loss: 34.7092 - accuracy: 0.8187 - val_loss: 34.6399 - val_accuracy: 0.8198\n",
            "Epoch 247/250\n",
            "1003/1003 - 3s - loss: 34.5715 - accuracy: 0.8187 - val_loss: 34.5025 - val_accuracy: 0.8198\n",
            "Epoch 248/250\n",
            "1003/1003 - 3s - loss: 34.4343 - accuracy: 0.8187 - val_loss: 34.3656 - val_accuracy: 0.8198\n",
            "Epoch 249/250\n",
            "1003/1003 - 4s - loss: 34.2977 - accuracy: 0.8187 - val_loss: 34.2292 - val_accuracy: 0.8198\n",
            "Epoch 250/250\n",
            "1003/1003 - 4s - loss: 34.1616 - accuracy: 0.8187 - val_loss: 34.0934 - val_accuracy: 0.8198\n"
          ],
          "name": "stdout"
        }
      ]
    },
    {
      "cell_type": "code",
      "metadata": {
        "colab": {
          "base_uri": "https://localhost:8080/"
        },
        "id": "_pqKKHDFP14Q",
        "outputId": "b9008c5d-f65f-4194-de28-65e88f3947c5"
      },
      "source": [
        "model_history2 = model.fit(X_train, Y_train, epochs = 80, validation_data = (X_dev, Y_dev), verbose = 2, callbacks = [checkpointer])"
      ],
      "execution_count": null,
      "outputs": [
        {
          "output_type": "stream",
          "text": [
            "Epoch 1/80\n",
            "1003/1003 - 4s - loss: 34.0261 - accuracy: 0.8187 - val_loss: 33.9582 - val_accuracy: 0.8198\n",
            "Epoch 2/80\n",
            "1003/1003 - 3s - loss: 33.8912 - accuracy: 0.8187 - val_loss: 33.8235 - val_accuracy: 0.8198\n",
            "Epoch 3/80\n",
            "1003/1003 - 3s - loss: 33.7567 - accuracy: 0.8187 - val_loss: 33.6893 - val_accuracy: 0.8198\n",
            "Epoch 4/80\n",
            "1003/1003 - 3s - loss: 33.6229 - accuracy: 0.8187 - val_loss: 33.5557 - val_accuracy: 0.8198\n",
            "Epoch 5/80\n",
            "1003/1003 - 3s - loss: 33.4895 - accuracy: 0.8187 - val_loss: 33.4226 - val_accuracy: 0.8198\n",
            "Epoch 6/80\n",
            "1003/1003 - 4s - loss: 33.3567 - accuracy: 0.8187 - val_loss: 33.2901 - val_accuracy: 0.8198\n",
            "Epoch 7/80\n",
            "1003/1003 - 3s - loss: 33.2243 - accuracy: 0.8187 - val_loss: 33.1580 - val_accuracy: 0.8198\n",
            "Epoch 8/80\n",
            "1003/1003 - 3s - loss: 33.0926 - accuracy: 0.8187 - val_loss: 33.0266 - val_accuracy: 0.8198\n",
            "Epoch 9/80\n",
            "1003/1003 - 3s - loss: 32.9614 - accuracy: 0.8187 - val_loss: 32.8956 - val_accuracy: 0.8198\n",
            "Epoch 10/80\n",
            "1003/1003 - 3s - loss: 32.8307 - accuracy: 0.8187 - val_loss: 32.7651 - val_accuracy: 0.8198\n",
            "Epoch 11/80\n",
            "1003/1003 - 4s - loss: 32.7005 - accuracy: 0.8187 - val_loss: 32.6352 - val_accuracy: 0.8198\n",
            "Epoch 12/80\n",
            "1003/1003 - 4s - loss: 32.5709 - accuracy: 0.8187 - val_loss: 32.5059 - val_accuracy: 0.8198\n",
            "Epoch 13/80\n",
            "1003/1003 - 4s - loss: 32.4417 - accuracy: 0.8187 - val_loss: 32.3770 - val_accuracy: 0.8198\n",
            "Epoch 14/80\n",
            "1003/1003 - 3s - loss: 32.3131 - accuracy: 0.8187 - val_loss: 32.2487 - val_accuracy: 0.8198\n",
            "Epoch 15/80\n",
            "1003/1003 - 3s - loss: 32.1851 - accuracy: 0.8187 - val_loss: 32.1209 - val_accuracy: 0.8198\n",
            "Epoch 16/80\n",
            "1003/1003 - 3s - loss: 32.0575 - accuracy: 0.8187 - val_loss: 31.9935 - val_accuracy: 0.8198\n",
            "Epoch 17/80\n",
            "1003/1003 - 3s - loss: 31.9305 - accuracy: 0.8187 - val_loss: 31.8668 - val_accuracy: 0.8198\n",
            "Epoch 18/80\n",
            "1003/1003 - 3s - loss: 31.8039 - accuracy: 0.8187 - val_loss: 31.7405 - val_accuracy: 0.8198\n",
            "Epoch 19/80\n",
            "1003/1003 - 3s - loss: 31.6780 - accuracy: 0.8187 - val_loss: 31.6148 - val_accuracy: 0.8198\n",
            "Epoch 20/80\n",
            "1003/1003 - 3s - loss: 31.5525 - accuracy: 0.8187 - val_loss: 31.4895 - val_accuracy: 0.8198\n",
            "Epoch 21/80\n",
            "1003/1003 - 3s - loss: 31.4275 - accuracy: 0.8187 - val_loss: 31.3648 - val_accuracy: 0.8198\n",
            "Epoch 22/80\n",
            "1003/1003 - 3s - loss: 31.3030 - accuracy: 0.8187 - val_loss: 31.2406 - val_accuracy: 0.8198\n",
            "Epoch 23/80\n",
            "1003/1003 - 3s - loss: 31.1790 - accuracy: 0.8187 - val_loss: 31.1168 - val_accuracy: 0.8198\n",
            "Epoch 24/80\n",
            "1003/1003 - 3s - loss: 31.0555 - accuracy: 0.8187 - val_loss: 30.9936 - val_accuracy: 0.8198\n",
            "Epoch 25/80\n",
            "1003/1003 - 3s - loss: 30.9325 - accuracy: 0.8187 - val_loss: 30.8709 - val_accuracy: 0.8198\n",
            "Epoch 26/80\n",
            "1003/1003 - 3s - loss: 30.8100 - accuracy: 0.8187 - val_loss: 30.7486 - val_accuracy: 0.8198\n",
            "Epoch 27/80\n",
            "1003/1003 - 3s - loss: 30.6880 - accuracy: 0.8187 - val_loss: 30.6269 - val_accuracy: 0.8198\n",
            "Epoch 28/80\n",
            "1003/1003 - 3s - loss: 30.5665 - accuracy: 0.8187 - val_loss: 30.5056 - val_accuracy: 0.8198\n",
            "Epoch 29/80\n",
            "1003/1003 - 3s - loss: 30.4455 - accuracy: 0.8187 - val_loss: 30.3848 - val_accuracy: 0.8198\n",
            "Epoch 30/80\n",
            "1003/1003 - 3s - loss: 30.3250 - accuracy: 0.8187 - val_loss: 30.2645 - val_accuracy: 0.8198\n",
            "Epoch 31/80\n",
            "1003/1003 - 3s - loss: 30.2049 - accuracy: 0.8187 - val_loss: 30.1447 - val_accuracy: 0.8198\n",
            "Epoch 32/80\n",
            "1003/1003 - 3s - loss: 30.0854 - accuracy: 0.8187 - val_loss: 30.0254 - val_accuracy: 0.8198\n",
            "Epoch 33/80\n",
            "1003/1003 - 3s - loss: 29.9663 - accuracy: 0.8187 - val_loss: 29.9065 - val_accuracy: 0.8198\n",
            "Epoch 34/80\n",
            "1003/1003 - 3s - loss: 29.8476 - accuracy: 0.8187 - val_loss: 29.7882 - val_accuracy: 0.8198\n",
            "Epoch 35/80\n",
            "1003/1003 - 3s - loss: 29.7295 - accuracy: 0.8187 - val_loss: 29.6703 - val_accuracy: 0.8198\n",
            "Epoch 36/80\n",
            "1003/1003 - 3s - loss: 29.6119 - accuracy: 0.8187 - val_loss: 29.5529 - val_accuracy: 0.8198\n",
            "Epoch 37/80\n",
            "1003/1003 - 3s - loss: 29.4947 - accuracy: 0.8187 - val_loss: 29.4360 - val_accuracy: 0.8198\n",
            "Epoch 38/80\n",
            "1003/1003 - 3s - loss: 29.3780 - accuracy: 0.8187 - val_loss: 29.3195 - val_accuracy: 0.8198\n",
            "Epoch 39/80\n",
            "1003/1003 - 3s - loss: 29.2618 - accuracy: 0.8187 - val_loss: 29.2035 - val_accuracy: 0.8198\n",
            "Epoch 40/80\n",
            "1003/1003 - 3s - loss: 29.1461 - accuracy: 0.8187 - val_loss: 29.0880 - val_accuracy: 0.8198\n",
            "Epoch 41/80\n",
            "1003/1003 - 3s - loss: 29.0308 - accuracy: 0.8187 - val_loss: 28.9730 - val_accuracy: 0.8198\n",
            "Epoch 42/80\n",
            "1003/1003 - 3s - loss: 28.9160 - accuracy: 0.8187 - val_loss: 28.8584 - val_accuracy: 0.8198\n",
            "Epoch 43/80\n",
            "1003/1003 - 3s - loss: 28.8017 - accuracy: 0.8187 - val_loss: 28.7443 - val_accuracy: 0.8198\n",
            "Epoch 44/80\n",
            "1003/1003 - 4s - loss: 28.6878 - accuracy: 0.8187 - val_loss: 28.6306 - val_accuracy: 0.8198\n",
            "Epoch 45/80\n",
            "1003/1003 - 3s - loss: 28.5743 - accuracy: 0.8187 - val_loss: 28.5174 - val_accuracy: 0.8198\n",
            "Epoch 46/80\n",
            "1003/1003 - 3s - loss: 28.4613 - accuracy: 0.8187 - val_loss: 28.4047 - val_accuracy: 0.8198\n",
            "Epoch 47/80\n",
            "1003/1003 - 3s - loss: 28.3488 - accuracy: 0.8187 - val_loss: 28.2924 - val_accuracy: 0.8198\n",
            "Epoch 48/80\n",
            "1003/1003 - 3s - loss: 28.2368 - accuracy: 0.8187 - val_loss: 28.1806 - val_accuracy: 0.8198\n",
            "Epoch 49/80\n",
            "1003/1003 - 3s - loss: 28.1252 - accuracy: 0.8187 - val_loss: 28.0692 - val_accuracy: 0.8198\n",
            "Epoch 50/80\n",
            "1003/1003 - 3s - loss: 28.0140 - accuracy: 0.8187 - val_loss: 27.9582 - val_accuracy: 0.8198\n",
            "Epoch 51/80\n",
            "1003/1003 - 3s - loss: 27.9033 - accuracy: 0.8187 - val_loss: 27.8477 - val_accuracy: 0.8198\n",
            "Epoch 52/80\n",
            "1003/1003 - 3s - loss: 27.7930 - accuracy: 0.8187 - val_loss: 27.7377 - val_accuracy: 0.8198\n",
            "Epoch 53/80\n",
            "1003/1003 - 3s - loss: 27.6832 - accuracy: 0.8187 - val_loss: 27.6281 - val_accuracy: 0.8198\n",
            "Epoch 54/80\n",
            "1003/1003 - 3s - loss: 27.5738 - accuracy: 0.8187 - val_loss: 27.5189 - val_accuracy: 0.8198\n",
            "Epoch 55/80\n",
            "1003/1003 - 3s - loss: 27.4649 - accuracy: 0.8187 - val_loss: 27.4102 - val_accuracy: 0.8198\n",
            "Epoch 56/80\n",
            "1003/1003 - 3s - loss: 27.3564 - accuracy: 0.8187 - val_loss: 27.3019 - val_accuracy: 0.8198\n",
            "Epoch 57/80\n",
            "1003/1003 - 3s - loss: 27.2483 - accuracy: 0.8187 - val_loss: 27.1941 - val_accuracy: 0.8198\n",
            "Epoch 58/80\n",
            "1003/1003 - 3s - loss: 27.1407 - accuracy: 0.8187 - val_loss: 27.0867 - val_accuracy: 0.8198\n",
            "Epoch 59/80\n",
            "1003/1003 - 3s - loss: 27.0335 - accuracy: 0.8187 - val_loss: 26.9797 - val_accuracy: 0.8198\n",
            "Epoch 60/80\n",
            "1003/1003 - 3s - loss: 26.9268 - accuracy: 0.8187 - val_loss: 26.8732 - val_accuracy: 0.8198\n",
            "Epoch 61/80\n",
            "1003/1003 - 3s - loss: 26.8204 - accuracy: 0.8187 - val_loss: 26.7671 - val_accuracy: 0.8198\n",
            "Epoch 62/80\n",
            "1003/1003 - 3s - loss: 26.7145 - accuracy: 0.8187 - val_loss: 26.6614 - val_accuracy: 0.8198\n",
            "Epoch 63/80\n",
            "1003/1003 - 3s - loss: 26.6091 - accuracy: 0.8187 - val_loss: 26.5561 - val_accuracy: 0.8198\n",
            "Epoch 64/80\n",
            "1003/1003 - 3s - loss: 26.5040 - accuracy: 0.8187 - val_loss: 26.4513 - val_accuracy: 0.8198\n",
            "Epoch 65/80\n",
            "1003/1003 - 3s - loss: 26.3994 - accuracy: 0.8187 - val_loss: 26.3469 - val_accuracy: 0.8198\n",
            "Epoch 66/80\n",
            "1003/1003 - 3s - loss: 26.2952 - accuracy: 0.8187 - val_loss: 26.2429 - val_accuracy: 0.8198\n",
            "Epoch 67/80\n",
            "1003/1003 - 3s - loss: 26.1914 - accuracy: 0.8187 - val_loss: 26.1393 - val_accuracy: 0.8198\n",
            "Epoch 68/80\n",
            "1003/1003 - 3s - loss: 26.0881 - accuracy: 0.8187 - val_loss: 26.0362 - val_accuracy: 0.8198\n",
            "Epoch 69/80\n",
            "1003/1003 - 3s - loss: 25.9851 - accuracy: 0.8187 - val_loss: 25.9334 - val_accuracy: 0.8198\n",
            "Epoch 70/80\n",
            "1003/1003 - 3s - loss: 25.8826 - accuracy: 0.8187 - val_loss: 25.8311 - val_accuracy: 0.8198\n",
            "Epoch 71/80\n",
            "1003/1003 - 3s - loss: 25.7805 - accuracy: 0.8187 - val_loss: 25.7292 - val_accuracy: 0.8198\n",
            "Epoch 72/80\n",
            "1003/1003 - 3s - loss: 25.6788 - accuracy: 0.8187 - val_loss: 25.6277 - val_accuracy: 0.8198\n",
            "Epoch 73/80\n",
            "1003/1003 - 3s - loss: 25.5774 - accuracy: 0.8187 - val_loss: 25.5266 - val_accuracy: 0.8198\n",
            "Epoch 74/80\n",
            "1003/1003 - 3s - loss: 25.4766 - accuracy: 0.8187 - val_loss: 25.4259 - val_accuracy: 0.8198\n",
            "Epoch 75/80\n",
            "1003/1003 - 3s - loss: 25.3761 - accuracy: 0.8187 - val_loss: 25.3257 - val_accuracy: 0.8198\n",
            "Epoch 76/80\n",
            "1003/1003 - 4s - loss: 25.2761 - accuracy: 0.8187 - val_loss: 25.2258 - val_accuracy: 0.8198\n",
            "Epoch 77/80\n",
            "1003/1003 - 3s - loss: 25.1764 - accuracy: 0.8187 - val_loss: 25.1264 - val_accuracy: 0.8198\n",
            "Epoch 78/80\n",
            "1003/1003 - 3s - loss: 25.0772 - accuracy: 0.8187 - val_loss: 25.0273 - val_accuracy: 0.8198\n",
            "Epoch 79/80\n",
            "1003/1003 - 3s - loss: 24.9783 - accuracy: 0.8187 - val_loss: 24.9287 - val_accuracy: 0.8198\n",
            "Epoch 80/80\n",
            "1003/1003 - 3s - loss: 24.8799 - accuracy: 0.8187 - val_loss: 24.8304 - val_accuracy: 0.8198\n"
          ],
          "name": "stdout"
        }
      ]
    },
    {
      "cell_type": "code",
      "metadata": {
        "colab": {
          "base_uri": "https://localhost:8080/"
        },
        "id": "uPsvyUTaq3uL",
        "outputId": "89f1a0de-c488-483e-c6f2-ec8ada1ecaf1"
      },
      "source": [
        "_, test_accuracy = model.evaluate(X_test, Y_test)\n",
        "print(\"Test Accuracy is: \" + str(test_accuracy * 100)+ str(\"%\"))\n"
      ],
      "execution_count": null,
      "outputs": [
        {
          "output_type": "stream",
          "text": [
            "36/36 [==============================] - 0s 2ms/step - loss: 24.8311 - accuracy: 0.8233\n",
            "Test Accuracy is: 82.33215808868408%\n"
          ],
          "name": "stdout"
        }
      ]
    },
    {
      "cell_type": "code",
      "metadata": {
        "colab": {
          "base_uri": "https://localhost:8080/"
        },
        "id": "CtYHsuZ0zTu8",
        "outputId": "aef900c0-f686-400e-cd5b-61b6de0219d1"
      },
      "source": [
        "alternate_model = Sequential()\n",
        "alternate_model.add(Dense(60, input_dim = 18, kernel_regularizer=l2(1e-1), activation='relu'))\n",
        "alternate_model.add(Dense(180, kernel_regularizer=l2(1e-1), activation= 'relu'))\n",
        "alternate_model.add(Dense(320, kernel_regularizer=l2(1e-1), activation='relu'))\n",
        "alternate_model.add(Dropout(0.3))\n",
        "alternate_model.add(Dense(320, kernel_regularizer=l2(1e-1), activation='relu'))\n",
        "alternate_model.add(Dropout(0.3))\n",
        "alternate_model.add(Dense(160, kernel_regularizer=l2(1e-1), activation='relu'))\n",
        "alternate_model.add(Dense(80, kernel_regularizer=l2(1e-1), activation='relu'))\n",
        "alternate_model.add(Dense(40, kernel_regularizer=l2(1e-1), activation='relu'))\n",
        "alternate_model.add(Dropout(0.3))\n",
        "alternate_model.add(Dense(20, kernel_regularizer=l2(1e-1), activation='relu'))\n",
        "alternate_model.add(Dense(18, kernel_regularizer=l2(1e-1), activation= 'relu'))\n",
        "alternate_model.add(Dense(14, kernel_regularizer=l2(1e-1),  activation='relu'))\n",
        "alternate_model.add(Dense(12, kernel_regularizer=l2(1e-1),  activation='relu'))\n",
        "alternate_model.add(Dense(8, kernel_regularizer=l2(1e-1),  activation='sigmoid'))\n",
        "\n",
        "adam = keras.optimizers.Adam(learning_rate = 0.01, beta_1=0.09, beta_2=0.999, amsgrad = False)\n",
        "alternate_model.compile(loss= 'binary_crossentropy', optimizer = adam, metrics=['accuracy'])\n",
        "checkpointer = EarlyStopping(monitor='val_loss',mode='min')\n",
        "alternate_model_history = alternate_model.fit(X_train, Y_train, epochs = 230, validation_data = (X_dev, Y_dev), verbose = 2, callbacks = [checkpointer])"
      ],
      "execution_count": null,
      "outputs": [
        {
          "output_type": "stream",
          "text": [
            "Epoch 1/230\n",
            "1003/1003 - 5s - loss: 1.1501 - accuracy: 0.3587 - val_loss: 0.6325 - val_accuracy: 0.1212\n",
            "Epoch 2/230\n",
            "1003/1003 - 3s - loss: 0.6584 - accuracy: 0.3474 - val_loss: 0.6764 - val_accuracy: 0.8198\n"
          ],
          "name": "stdout"
        }
      ]
    },
    {
      "cell_type": "code",
      "metadata": {
        "colab": {
          "base_uri": "https://localhost:8080/"
        },
        "id": "A-stBV2K0A0F",
        "outputId": "ad71ef30-64d5-45c5-ca7f-f5631569b735"
      },
      "source": [
        "_, alternate_model_test_accuracy = alternate_model.evaluate(X_test, Y_test)\n",
        "print(\"Test Accuracy is: \" + str(alternate_model_test_accuracy * 100)+ str(\"%\"))"
      ],
      "execution_count": null,
      "outputs": [
        {
          "output_type": "stream",
          "text": [
            "36/36 [==============================] - 0s 2ms/step - loss: 0.6791 - accuracy: 0.8233\n",
            "Test Accuracy is: 82.33215808868408%\n"
          ],
          "name": "stdout"
        }
      ]
    },
    {
      "cell_type": "code",
      "metadata": {
        "id": "RuOBrWjvss1M"
      },
      "source": [
        "data  = pd.read_csv(r'/content/drive/MyDrive/cps/ML-Projects-master/data.csv')\n",
        "data = data.drop(['Unnamed: 0'], axis = 1)\n",
        "delay_label_column = data.columns[18:]\n",
        "delay_data_column = data[delay_label_column]\n",
        "data1 = delay_data_column.corr(method = 'pearson')\n",
        "data2 = data[['FEDERAL_HOLIDAY',\n",
        "       'STATE_HOLIDAY', 'WEEKEND', 'LONG_WEEKEND', 'DEPARTURE_DELAY', 'ARRIVAL_DELAY', 'AIR_SYSTEM_DELAY',\n",
        "       'SECURITY_DELAY', 'AIRLINE_DELAY', 'LATE_AIRCRAFT_DELAY']]"
      ],
      "execution_count": null,
      "outputs": []
    },
    {
      "cell_type": "code",
      "metadata": {
        "colab": {
          "base_uri": "https://localhost:8080/",
          "height": 390
        },
        "id": "HY01N6O8s4JT",
        "outputId": "79de1f77-8f5c-4a74-c831-537c89b43efe"
      },
      "source": [
        "sn.heatmap(data1)"
      ],
      "execution_count": null,
      "outputs": [
        {
          "output_type": "execute_result",
          "data": {
            "text/plain": [
              "<matplotlib.axes._subplots.AxesSubplot at 0x7f9857f89fd0>"
            ]
          },
          "metadata": {
            "tags": []
          },
          "execution_count": 34
        },
        {
          "output_type": "display_data",
          "data": {
            "image/png": "[encoded data removed]",
            "text/plain": [
              "<Figure size 432x288 with 2 Axes>"
            ]
          },
          "metadata": {
            "tags": [],
            "needs_background": "light"
          }
        }
      ]
    },
    {
      "cell_type": "code",
      "metadata": {
        "colab": {
          "base_uri": "https://localhost:8080/",
          "height": 386
        },
        "id": "X7piMLfysxgh",
        "outputId": "bb794437-70aa-4091-9325-e2b9a7e6b95f"
      },
      "source": [
        "df = pd.DataFrame(data2.corr(method = 'pearson'))\n",
        "sn.heatmap(df[df.columns[4:]][0:4])"
      ],
      "execution_count": null,
      "outputs": [
        {
          "output_type": "execute_result",
          "data": {
            "text/plain": [
              "<matplotlib.axes._subplots.AxesSubplot at 0x7f985666b4d0>"
            ]
          },
          "metadata": {
            "tags": []
          },
          "execution_count": 35
        },
        {
          "output_type": "display_data",
          "data": {
            "image/png": "[encoded data removed]",
            "text/plain": [
              "<Figure size 432x288 with 2 Axes>"
            ]
          },
          "metadata": {
            "tags": [],
            "needs_background": "light"
          }
        }
      ]
    }
  ]
}